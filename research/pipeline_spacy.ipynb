{
 "cells": [
  {
   "cell_type": "markdown",
   "id": "2a954935-101c-4841-8c41-4a18cca2025a",
   "metadata": {},
   "source": [
    "# Preparation"
   ]
  },
  {
   "cell_type": "code",
   "execution_count": 1,
   "id": "1c5004a5-d749-4e74-bf7d-d9df54a8f4ab",
   "metadata": {},
   "outputs": [],
   "source": [
    "import sys\n",
    "import os\n",
    "notebook_dir = os.getcwd()\n",
    "sys.path.append(os.path.abspath(os.path.join(notebook_dir, '..')))"
   ]
  },
  {
   "cell_type": "code",
   "execution_count": 2,
   "id": "7e102af4-77be-47b5-a51f-e75f3712582c",
   "metadata": {},
   "outputs": [],
   "source": [
    "import numpy as np\n",
    "import spacy\n",
    "from dataset_tools.utils import load_matching_data\n",
    "from research.metrics import calc_confusion_matrix, calc_all_stats"
   ]
  },
  {
   "cell_type": "code",
   "execution_count": 3,
   "id": "73ab2edd-2bc8-4a00-b444-65a769a5047a",
   "metadata": {},
   "outputs": [],
   "source": [
    "# %%time\n",
    "# !python -m spacy download ru_core_news_lg"
   ]
  },
  {
   "cell_type": "markdown",
   "id": "74c827cd-357d-4a33-9448-cc3da687f0c5",
   "metadata": {},
   "source": [
    "# Data"
   ]
  },
  {
   "cell_type": "code",
   "execution_count": 4,
   "id": "7c306d86-335d-4c59-922d-7439d679e2a5",
   "metadata": {},
   "outputs": [],
   "source": [
    "requests_file = \"../data/request_db.txt\"\n",
    "ads_file = \"../data/ads_db.txt\"\n",
    "matching_file = \"../data/matching_db.txt\""
   ]
  },
  {
   "cell_type": "code",
   "execution_count": 5,
   "id": "7f8de263-eb4e-4003-b51c-6cbe392a63ae",
   "metadata": {},
   "outputs": [],
   "source": [
    "with open(ads_file, encoding=\"utf-8\") as f:\n",
    "    ads_raw = f.readlines()"
   ]
  },
  {
   "cell_type": "code",
   "execution_count": 6,
   "id": "501fe2d3-4e47-4b73-81e8-25eaeb1c207a",
   "metadata": {},
   "outputs": [],
   "source": [
    "with open(requests_file, encoding=\"utf-8\") as f:\n",
    "    requests_raw = f.readlines()"
   ]
  },
  {
   "cell_type": "markdown",
   "id": "b799bed7-d56b-44fb-833f-9bfdb90be976",
   "metadata": {},
   "source": [
    "# Preprocessing"
   ]
  },
  {
   "cell_type": "code",
   "execution_count": 7,
   "id": "6633dc6b-6691-4b98-87b5-b99448636c0e",
   "metadata": {},
   "outputs": [],
   "source": [
    "nlp = spacy.load(\"ru_core_news_lg\")"
   ]
  },
  {
   "cell_type": "code",
   "execution_count": 8,
   "id": "daf61aaa-3e70-4d68-aa93-5cc0872445ba",
   "metadata": {},
   "outputs": [],
   "source": [
    "def preprocess(text):\n",
    "    text = text.replace(\"\\\\n\", \"\\n\").replace(\"\\n\", \" \")\n",
    "    text = text.strip()\n",
    "    text = text.lower()  # many words has vectors only in lowercase\n",
    "    return text"
   ]
  },
  {
   "cell_type": "code",
   "execution_count": 9,
   "id": "00363247-bb15-4d4f-bed3-0712e17df170",
   "metadata": {
    "scrolled": true
   },
   "outputs": [],
   "source": [
    "ads = [nlp(preprocess(text)) for text in ads_raw]"
   ]
  },
  {
   "cell_type": "code",
   "execution_count": 10,
   "id": "4c5927ff-33f0-459d-97c7-f7c23ee6dab5",
   "metadata": {},
   "outputs": [],
   "source": [
    "for ad in ads:\n",
    "    if ad.vector.all() == 0.:\n",
    "        print(ad) "
   ]
  },
  {
   "cell_type": "code",
   "execution_count": 11,
   "id": "76b0dd25-086e-4f0c-89e6-56258e081d4e",
   "metadata": {},
   "outputs": [],
   "source": [
    "requests = [nlp(preprocess(text)) for text in requests_raw]"
   ]
  },
  {
   "cell_type": "code",
   "execution_count": 12,
   "id": "73669d58-d01f-4707-b8dc-a943792d7f1b",
   "metadata": {},
   "outputs": [
    {
     "name": "stdout",
     "output_type": "stream",
     "text": [
      "снуд вязанный\n",
      "дкарандши\n",
      "беговел\n",
      "экомешочки\n",
      "шифонер\n",
      "электросамокат\n",
      "самосбор\n",
      "онтоновка\n",
      "безсахара\n",
      "уходовая кометика\n",
      "вейп\n",
      "фотостудия\n",
      "автолюлька\n",
      "автокресло\n",
      "чермет\n"
     ]
    }
   ],
   "source": [
    "for request in requests:\n",
    "    if not request.has_vector:\n",
    "        print(request) "
   ]
  },
  {
   "cell_type": "markdown",
   "id": "dbea3b7c-c85b-48ff-a3b9-64290ff655e7",
   "metadata": {},
   "source": [
    "# Predict"
   ]
  },
  {
   "cell_type": "code",
   "execution_count": 13,
   "id": "270a0216-801c-462e-bb2c-55d4a593d811",
   "metadata": {},
   "outputs": [],
   "source": [
    "def calc_similarity(a, b):\n",
    "    if isinstance(a, spacy.tokens.doc.Doc) and isinstance(b, spacy.tokens.doc.Doc): \n",
    "        return a.similarity(b)\n",
    "    else:\n",
    "        return np.dot(a, b) / np.dot(np.linalg.norm(a), np.linalg.norm(b))"
   ]
  },
  {
   "cell_type": "code",
   "execution_count": 14,
   "id": "38879a51-67ba-4529-88a4-5cb408682f32",
   "metadata": {},
   "outputs": [],
   "source": [
    "def calc_request_similarity(request, ads):\n",
    "    return [calc_similarity(request, ad) for ad in ads]"
   ]
  },
  {
   "cell_type": "code",
   "execution_count": 15,
   "id": "1e850118-6e97-4820-a9de-bec8cb601d80",
   "metadata": {},
   "outputs": [],
   "source": [
    "def find_indices(scores, threshold):\n",
    "    if isinstance(scores, np.ndarray):\n",
    "        return np.where(scores > threshold)[0]\n",
    "    else:\n",
    "        return [i for i, score in enumerate(scores) if score > threshold]"
   ]
  },
  {
   "cell_type": "code",
   "execution_count": 16,
   "id": "5d2a3048-4076-4519-9f9c-03de29bebe69",
   "metadata": {},
   "outputs": [],
   "source": [
    "def predict(requests, ads, threshold=0.5):\n",
    "    predictions = {}\n",
    "    for i, request in enumerate(requests):\n",
    "        scores = calc_request_similarity(request, ads)\n",
    "        indices = find_indices(scores, threshold)\n",
    "        if indices:\n",
    "            predictions[str(i+1)] = [str(idx+1) for idx in indices] # indexation starts from 1 in the true_markup\n",
    "    return predictions"
   ]
  },
  {
   "cell_type": "code",
   "execution_count": 17,
   "id": "1978ea65-da21-417b-a251-fad2da5ef8b7",
   "metadata": {},
   "outputs": [
    {
     "name": "stderr",
     "output_type": "stream",
     "text": [
      "C:\\Users\\annas\\AppData\\Local\\Temp\\ipykernel_19672\\1641026373.py:3: UserWarning: [W008] Evaluating Doc.similarity based on empty vectors.\n",
      "  return a.similarity(b)\n"
     ]
    }
   ],
   "source": [
    "pred_markup = predict(requests, ads, threshold=0.6)"
   ]
  },
  {
   "cell_type": "markdown",
   "id": "78c86988-874f-4f3c-8d43-317d158d972a",
   "metadata": {},
   "source": [
    "# Evaluation"
   ]
  },
  {
   "cell_type": "markdown",
   "id": "e1a30f5b-c5a2-4888-986f-b32577f7d38f",
   "metadata": {},
   "source": [
    "## Example Data"
   ]
  },
  {
   "cell_type": "code",
   "execution_count": 18,
   "id": "9ee6193e-c5ea-4f1e-b5d6-948f6d0dfc34",
   "metadata": {},
   "outputs": [],
   "source": [
    "ex_true_markup = {\"1\": [\"1\", \"4\"],\n",
    "     \"3\": [\"7\"],\n",
    "     \"4\": [\"3\", \"1\", \"5\"]\n",
    "    }\n",
    "\n",
    "ex_pred_markup = {\"1\": [\"1\", \"8\", \"4\"],\n",
    "     \"3\": [\"7\"],\n",
    "     \"5\": [\"10\"]\n",
    "    }\n",
    "\n",
    "ex_n_ads = 10\n",
    "ex_n_requests = 5\n",
    "\n",
    "ex = \"\"\"\n",
    "1)  1 2 3 4 5 6 7 8 9 10\n",
    "map 1 0 0 1 0 0 0 0 0 0 \n",
    "pr  1 0 0 1 0 0 0 1 0 0\n",
    "\n",
    "2)  1 2 3 4 5 6 7 8 9 10\n",
    "map 0 0 0 0 0 0 0 0 0 0 \n",
    "pr  0 0 0 0 0 0 0 0 0 0\n",
    "\n",
    "3)  1 2 3 4 5 6 7 8 9 10\n",
    "map 0 0 0 0 0 0 1 0 0 0 \n",
    "pr  0 0 0 0 0 0 1 0 0 0\n",
    "\n",
    "4)  1 2 3 4 5 6 7 8 9 10\n",
    "map 1 0 1 0 1 0 0 0 0 0 \n",
    "pr  0 0 0 0 0 0 0 0 0 0\n",
    "\n",
    "5)  1 2 3 4 5 6 7 8 9 10\n",
    "map 0 0 0 0 0 0 0 0 0 0 \n",
    "pr  0 0 0 0 0 0 0 0 0 1\n",
    "\n",
    "CONFUSION MATRIX:\n",
    "TP: 3\n",
    "FP: 2\n",
    "TN: 42\n",
    "FN: 3\n",
    "\n",
    "METRICS\n",
    "Acc:  0.9\n",
    "Prec: 0.6\n",
    "Rec:  0.5\n",
    "F1:   0.(54)\n",
    "\"\"\""
   ]
  },
  {
   "cell_type": "code",
   "execution_count": 19,
   "id": "3204d74b-4935-4a9c-8bd5-28791b09caac",
   "metadata": {},
   "outputs": [
    {
     "data": {
      "text/plain": [
       "{'TP': 3, 'FP': 2, 'TN': 42, 'FN': 3}"
      ]
     },
     "execution_count": 19,
     "metadata": {},
     "output_type": "execute_result"
    }
   ],
   "source": [
    "ex_confusion_matrix = calc_confusion_matrix(ex_true_markup, ex_pred_markup, n_ads=ex_n_ads, n_requests=ex_n_requests)\n",
    "ex_confusion_matrix"
   ]
  },
  {
   "cell_type": "code",
   "execution_count": 20,
   "id": "c8e70e43-f813-4203-8d41-f19bf867557b",
   "metadata": {},
   "outputs": [
    {
     "data": {
      "text/plain": [
       "{'accuracy': 0.9, 'precision': 0.6, 'recall': 0.5, 'f1': 0.5454545454545454}"
      ]
     },
     "execution_count": 20,
     "metadata": {},
     "output_type": "execute_result"
    }
   ],
   "source": [
    "calc_all_stats(ex_confusion_matrix)"
   ]
  },
  {
   "cell_type": "markdown",
   "id": "2db08d87-e300-4aed-9712-26f69d2a343c",
   "metadata": {},
   "source": [
    "## Real Data"
   ]
  },
  {
   "cell_type": "code",
   "execution_count": 21,
   "id": "5d9ac7a0-1194-458a-9550-c6c46d5c2af2",
   "metadata": {},
   "outputs": [],
   "source": [
    "true_markup = load_matching_data(matching_file)"
   ]
  },
  {
   "cell_type": "code",
   "execution_count": 22,
   "id": "b27764d6-4a2b-4d3c-9b2f-a05df6948754",
   "metadata": {},
   "outputs": [
    {
     "data": {
      "text/plain": [
       "{'TP': 40, 'FP': 415, 'TN': 87028, 'FN': 339}"
      ]
     },
     "execution_count": 22,
     "metadata": {},
     "output_type": "execute_result"
    }
   ],
   "source": [
    "confusion_matrix = calc_confusion_matrix(true_markup, pred_markup, n_ads=len(ads), n_requests=len(requests))\n",
    "confusion_matrix"
   ]
  },
  {
   "cell_type": "code",
   "execution_count": 23,
   "id": "42ece8ca-b413-497a-ac21-beee4be7385c",
   "metadata": {},
   "outputs": [
    {
     "data": {
      "text/plain": [
       "{'accuracy': 0.9914144519596456,\n",
       " 'precision': 0.08791208791208792,\n",
       " 'recall': 0.10554089709762533,\n",
       " 'f1': 0.0959232613908873}"
      ]
     },
     "execution_count": 23,
     "metadata": {},
     "output_type": "execute_result"
    }
   ],
   "source": [
    "calc_all_stats(confusion_matrix)"
   ]
  },
  {
   "cell_type": "code",
   "execution_count": null,
   "id": "4b589f65-e98c-469e-b2a4-5a465563f6d2",
   "metadata": {},
   "outputs": [],
   "source": []
  },
  {
   "cell_type": "code",
   "execution_count": null,
   "id": "6704c555-d177-4e6c-9402-791705516b83",
   "metadata": {},
   "outputs": [],
   "source": []
  },
  {
   "cell_type": "code",
   "execution_count": null,
   "id": "151055a4-4af9-4e7a-844b-f89d1088b954",
   "metadata": {},
   "outputs": [],
   "source": []
  }
 ],
 "metadata": {
  "kernelspec": {
   "display_name": "Python 3 (ipykernel)",
   "language": "python",
   "name": "python3"
  },
  "language_info": {
   "codemirror_mode": {
    "name": "ipython",
    "version": 3
   },
   "file_extension": ".py",
   "mimetype": "text/x-python",
   "name": "python",
   "nbconvert_exporter": "python",
   "pygments_lexer": "ipython3",
   "version": "3.12.10"
  }
 },
 "nbformat": 4,
 "nbformat_minor": 5
}
