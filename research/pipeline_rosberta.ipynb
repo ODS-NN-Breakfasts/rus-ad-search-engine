{
 "cells": [
  {
   "cell_type": "markdown",
   "id": "2a954935-101c-4841-8c41-4a18cca2025a",
   "metadata": {},
   "source": [
    "# Preparation"
   ]
  },
  {
   "cell_type": "code",
   "execution_count": 1,
   "id": "1c5004a5-d749-4e74-bf7d-d9df54a8f4ab",
   "metadata": {},
   "outputs": [],
   "source": [
    "import sys\n",
    "import os\n",
    "notebook_dir = os.getcwd()\n",
    "sys.path.append(os.path.abspath(os.path.join(notebook_dir, '..')))"
   ]
  },
  {
   "cell_type": "code",
   "execution_count": 2,
   "id": "73178d6c-a090-48c5-abd8-670e85116fad",
   "metadata": {
    "scrolled": true
   },
   "outputs": [
    {
     "name": "stdout",
     "output_type": "stream",
     "text": [
      "Requirement already satisfied: sentence-transformers in c:\\users\\annas\\yandexdisk\\коды\\python 3\\другое\\дронт\\.venv_spacy\\lib\\site-packages (5.1.1)\n",
      "Requirement already satisfied: transformers<5.0.0,>=4.41.0 in c:\\users\\annas\\yandexdisk\\коды\\python 3\\другое\\дронт\\.venv_spacy\\lib\\site-packages (from sentence-transformers) (4.49.0)\n",
      "Requirement already satisfied: tqdm in c:\\users\\annas\\yandexdisk\\коды\\python 3\\другое\\дронт\\.venv_spacy\\lib\\site-packages (from sentence-transformers) (4.67.1)\n",
      "Requirement already satisfied: torch>=1.11.0 in c:\\users\\annas\\yandexdisk\\коды\\python 3\\другое\\дронт\\.venv_spacy\\lib\\site-packages (from sentence-transformers) (2.9.0)\n",
      "Requirement already satisfied: scikit-learn in c:\\users\\annas\\yandexdisk\\коды\\python 3\\другое\\дронт\\.venv_spacy\\lib\\site-packages (from sentence-transformers) (1.7.2)\n",
      "Requirement already satisfied: scipy in c:\\users\\annas\\yandexdisk\\коды\\python 3\\другое\\дронт\\.venv_spacy\\lib\\site-packages (from sentence-transformers) (1.16.2)\n",
      "Requirement already satisfied: huggingface-hub>=0.20.0 in c:\\users\\annas\\yandexdisk\\коды\\python 3\\другое\\дронт\\.venv_spacy\\lib\\site-packages (from sentence-transformers) (0.35.3)\n",
      "Requirement already satisfied: Pillow in c:\\users\\annas\\yandexdisk\\коды\\python 3\\другое\\дронт\\.venv_spacy\\lib\\site-packages (from sentence-transformers) (11.3.0)\n",
      "Requirement already satisfied: typing_extensions>=4.5.0 in c:\\users\\annas\\yandexdisk\\коды\\python 3\\другое\\дронт\\.venv_spacy\\lib\\site-packages (from sentence-transformers) (4.15.0)\n",
      "Requirement already satisfied: filelock in c:\\users\\annas\\yandexdisk\\коды\\python 3\\другое\\дронт\\.venv_spacy\\lib\\site-packages (from huggingface-hub>=0.20.0->sentence-transformers) (3.20.0)\n",
      "Requirement already satisfied: fsspec>=2023.5.0 in c:\\users\\annas\\yandexdisk\\коды\\python 3\\другое\\дронт\\.venv_spacy\\lib\\site-packages (from huggingface-hub>=0.20.0->sentence-transformers) (2025.9.0)\n",
      "Requirement already satisfied: packaging>=20.9 in c:\\users\\annas\\yandexdisk\\коды\\python 3\\другое\\дронт\\.venv_spacy\\lib\\site-packages (from huggingface-hub>=0.20.0->sentence-transformers) (25.0)\n",
      "Requirement already satisfied: pyyaml>=5.1 in c:\\users\\annas\\yandexdisk\\коды\\python 3\\другое\\дронт\\.venv_spacy\\lib\\site-packages (from huggingface-hub>=0.20.0->sentence-transformers) (6.0.3)\n",
      "Requirement already satisfied: requests in c:\\users\\annas\\yandexdisk\\коды\\python 3\\другое\\дронт\\.venv_spacy\\lib\\site-packages (from huggingface-hub>=0.20.0->sentence-transformers) (2.32.5)\n",
      "Requirement already satisfied: sympy>=1.13.3 in c:\\users\\annas\\yandexdisk\\коды\\python 3\\другое\\дронт\\.venv_spacy\\lib\\site-packages (from torch>=1.11.0->sentence-transformers) (1.14.0)\n",
      "Requirement already satisfied: networkx>=2.5.1 in c:\\users\\annas\\yandexdisk\\коды\\python 3\\другое\\дронт\\.venv_spacy\\lib\\site-packages (from torch>=1.11.0->sentence-transformers) (3.5)\n",
      "Requirement already satisfied: jinja2 in c:\\users\\annas\\yandexdisk\\коды\\python 3\\другое\\дронт\\.venv_spacy\\lib\\site-packages (from torch>=1.11.0->sentence-transformers) (3.1.6)\n",
      "Requirement already satisfied: setuptools in c:\\users\\annas\\yandexdisk\\коды\\python 3\\другое\\дронт\\.venv_spacy\\lib\\site-packages (from torch>=1.11.0->sentence-transformers) (80.9.0)\n",
      "Requirement already satisfied: colorama in c:\\users\\annas\\yandexdisk\\коды\\python 3\\другое\\дронт\\.venv_spacy\\lib\\site-packages (from tqdm->sentence-transformers) (0.4.6)\n",
      "Requirement already satisfied: numpy>=1.17 in c:\\users\\annas\\yandexdisk\\коды\\python 3\\другое\\дронт\\.venv_spacy\\lib\\site-packages (from transformers<5.0.0,>=4.41.0->sentence-transformers) (2.3.3)\n",
      "Requirement already satisfied: regex!=2019.12.17 in c:\\users\\annas\\yandexdisk\\коды\\python 3\\другое\\дронт\\.venv_spacy\\lib\\site-packages (from transformers<5.0.0,>=4.41.0->sentence-transformers) (2025.9.18)\n",
      "Requirement already satisfied: tokenizers<0.22,>=0.21 in c:\\users\\annas\\yandexdisk\\коды\\python 3\\другое\\дронт\\.venv_spacy\\lib\\site-packages (from transformers<5.0.0,>=4.41.0->sentence-transformers) (0.21.4)\n",
      "Requirement already satisfied: safetensors>=0.4.1 in c:\\users\\annas\\yandexdisk\\коды\\python 3\\другое\\дронт\\.venv_spacy\\lib\\site-packages (from transformers<5.0.0,>=4.41.0->sentence-transformers) (0.6.2)\n",
      "Requirement already satisfied: joblib>=1.2.0 in c:\\users\\annas\\yandexdisk\\коды\\python 3\\другое\\дронт\\.venv_spacy\\lib\\site-packages (from scikit-learn->sentence-transformers) (1.5.2)\n",
      "Requirement already satisfied: threadpoolctl>=3.1.0 in c:\\users\\annas\\yandexdisk\\коды\\python 3\\другое\\дронт\\.venv_spacy\\lib\\site-packages (from scikit-learn->sentence-transformers) (3.6.0)\n",
      "Requirement already satisfied: mpmath<1.4,>=1.1.0 in c:\\users\\annas\\yandexdisk\\коды\\python 3\\другое\\дронт\\.venv_spacy\\lib\\site-packages (from sympy>=1.13.3->torch>=1.11.0->sentence-transformers) (1.3.0)\n",
      "Requirement already satisfied: MarkupSafe>=2.0 in c:\\users\\annas\\yandexdisk\\коды\\python 3\\другое\\дронт\\.venv_spacy\\lib\\site-packages (from jinja2->torch>=1.11.0->sentence-transformers) (3.0.3)\n",
      "Requirement already satisfied: charset_normalizer<4,>=2 in c:\\users\\annas\\yandexdisk\\коды\\python 3\\другое\\дронт\\.venv_spacy\\lib\\site-packages (from requests->huggingface-hub>=0.20.0->sentence-transformers) (3.4.3)\n",
      "Requirement already satisfied: idna<4,>=2.5 in c:\\users\\annas\\yandexdisk\\коды\\python 3\\другое\\дронт\\.venv_spacy\\lib\\site-packages (from requests->huggingface-hub>=0.20.0->sentence-transformers) (3.10)\n",
      "Requirement already satisfied: urllib3<3,>=1.21.1 in c:\\users\\annas\\yandexdisk\\коды\\python 3\\другое\\дронт\\.venv_spacy\\lib\\site-packages (from requests->huggingface-hub>=0.20.0->sentence-transformers) (2.5.0)\n",
      "Requirement already satisfied: certifi>=2017.4.17 in c:\\users\\annas\\yandexdisk\\коды\\python 3\\другое\\дронт\\.venv_spacy\\lib\\site-packages (from requests->huggingface-hub>=0.20.0->sentence-transformers) (2025.10.5)\n"
     ]
    },
    {
     "name": "stderr",
     "output_type": "stream",
     "text": [
      "\n",
      "[notice] A new release of pip is available: 25.0.1 -> 25.2\n",
      "[notice] To update, run: python.exe -m pip install --upgrade pip\n"
     ]
    }
   ],
   "source": [
    "!pip install sentence-transformers"
   ]
  },
  {
   "cell_type": "code",
   "execution_count": 3,
   "id": "7e102af4-77be-47b5-a51f-e75f3712582c",
   "metadata": {},
   "outputs": [],
   "source": [
    "import numpy as np\n",
    "from utils import dataset_utils\n",
    "from utils import metrics\n",
    "from sentence_transformers import SentenceTransformer"
   ]
  },
  {
   "cell_type": "markdown",
   "id": "74c827cd-357d-4a33-9448-cc3da687f0c5",
   "metadata": {},
   "source": [
    "# Data"
   ]
  },
  {
   "cell_type": "code",
   "execution_count": 4,
   "id": "7c306d86-335d-4c59-922d-7439d679e2a5",
   "metadata": {},
   "outputs": [],
   "source": [
    "requests_file = \"../data/request_db.txt\"\n",
    "ads_file = \"../data/ads_db.txt\"\n",
    "matching_file = \"../data/matching_db.txt\""
   ]
  },
  {
   "cell_type": "code",
   "execution_count": 5,
   "id": "7f8de263-eb4e-4003-b51c-6cbe392a63ae",
   "metadata": {},
   "outputs": [],
   "source": [
    "with open(ads_file, encoding=\"utf-8\") as f:\n",
    "    ads_raw = f.readlines()"
   ]
  },
  {
   "cell_type": "code",
   "execution_count": 6,
   "id": "501fe2d3-4e47-4b73-81e8-25eaeb1c207a",
   "metadata": {},
   "outputs": [],
   "source": [
    "with open(requests_file, encoding=\"utf-8\") as f:\n",
    "    requests_raw = f.readlines()"
   ]
  },
  {
   "cell_type": "markdown",
   "id": "b799bed7-d56b-44fb-833f-9bfdb90be976",
   "metadata": {},
   "source": [
    "# Preprocessing"
   ]
  },
  {
   "cell_type": "code",
   "execution_count": 7,
   "id": "daf61aaa-3e70-4d68-aa93-5cc0872445ba",
   "metadata": {},
   "outputs": [],
   "source": [
    "def preprocess(text):\n",
    "    text = text.replace(\"\\\\n\", \"\\n\").replace(\"\\n\", \" \")\n",
    "    text = text.strip()\n",
    "    return text"
   ]
  },
  {
   "cell_type": "code",
   "execution_count": 8,
   "id": "00363247-bb15-4d4f-bed3-0712e17df170",
   "metadata": {},
   "outputs": [
    {
     "data": {
      "text/plain": [
       "246"
      ]
     },
     "execution_count": 8,
     "metadata": {},
     "output_type": "execute_result"
    }
   ],
   "source": [
    "ads = [preprocess(text) for text in ads_raw]\n",
    "len(ads)"
   ]
  },
  {
   "cell_type": "code",
   "execution_count": 9,
   "id": "76b0dd25-086e-4f0c-89e6-56258e081d4e",
   "metadata": {},
   "outputs": [
    {
     "data": {
      "text/plain": [
       "357"
      ]
     },
     "execution_count": 9,
     "metadata": {},
     "output_type": "execute_result"
    }
   ],
   "source": [
    "requests = [preprocess(text) for text in requests_raw]\n",
    "len(requests)"
   ]
  },
  {
   "cell_type": "markdown",
   "id": "dbea3b7c-c85b-48ff-a3b9-64290ff655e7",
   "metadata": {},
   "source": [
    "# Predict"
   ]
  },
  {
   "cell_type": "code",
   "execution_count": 10,
   "id": "959ed44d-a803-4d13-9d77-da8838f1fe2b",
   "metadata": {},
   "outputs": [],
   "source": [
    "def calc_similarity(requests, ads):\n",
    "    requests = requests / np.linalg.norm(requests, axis=1, keepdims=True)\n",
    "    ads = ads / np.linalg.norm(ads, axis=1, keepdims=True)\n",
    "    return np.dot(requests, ads.T)"
   ]
  },
  {
   "cell_type": "code",
   "execution_count": 11,
   "id": "6633dc6b-6691-4b98-87b5-b99448636c0e",
   "metadata": {},
   "outputs": [
    {
     "name": "stderr",
     "output_type": "stream",
     "text": [
      "Some weights of RobertaModel were not initialized from the model checkpoint at ai-forever/ru-en-RoSBERTa and are newly initialized: ['pooler.dense.bias', 'pooler.dense.weight']\n",
      "You should probably TRAIN this model on a down-stream task to be able to use it for predictions and inference.\n"
     ]
    }
   ],
   "source": [
    "model = SentenceTransformer('ai-forever/ru-en-RoSBERTa')"
   ]
  },
  {
   "cell_type": "code",
   "execution_count": null,
   "id": "1a9f545b-269d-4238-9092-de1e720587bf",
   "metadata": {},
   "outputs": [],
   "source": [
    "request_embeddings = model.encode(requests)"
   ]
  },
  {
   "cell_type": "code",
   "execution_count": 13,
   "id": "3add5cf2-4c15-4f76-8ec0-c6001d1e6534",
   "metadata": {},
   "outputs": [
    {
     "name": "stdout",
     "output_type": "stream",
     "text": [
      "CPU times: total: 8min 5s\n",
      "Wall time: 2min 6s\n"
     ]
    }
   ],
   "source": [
    "%%time\n",
    "ad_embeddings = model.encode(ads)"
   ]
  },
  {
   "cell_type": "code",
   "execution_count": 14,
   "id": "d38592cd-0fbd-4e05-ba0b-43af3040d6a7",
   "metadata": {},
   "outputs": [],
   "source": [
    "def predict(request_embeddings, ad_embeddings, threshold=0.5):\n",
    "    sim_matrix = calc_similarity(request_embeddings, ad_embeddings)\n",
    "    binary_matrix = (sim_matrix >= threshold).astype(int)\n",
    "    \n",
    "    predictions = {}\n",
    "    for request_idx in range(binary_matrix.shape[0]):\n",
    "        binary_vec = binary_matrix[request_idx]\n",
    "        if binary_vec.any() == 1:\n",
    "            predictions[str(request_idx+1)] = [str(idx+1) for idx in np.nonzero(binary_vec)[0].tolist()]  # indexation starts from 1 in the true_markup\n",
    "    return predictions"
   ]
  },
  {
   "cell_type": "code",
   "execution_count": 15,
   "id": "1978ea65-da21-417b-a251-fad2da5ef8b7",
   "metadata": {},
   "outputs": [],
   "source": [
    "pred_markup = predict(request_embeddings, ad_embeddings, threshold=0.6)"
   ]
  },
  {
   "cell_type": "markdown",
   "id": "78c86988-874f-4f3c-8d43-317d158d972a",
   "metadata": {},
   "source": [
    "# Evaluation"
   ]
  },
  {
   "cell_type": "code",
   "execution_count": 16,
   "id": "5d9ac7a0-1194-458a-9550-c6c46d5c2af2",
   "metadata": {},
   "outputs": [],
   "source": [
    "true_markup = dataset_utils.load_matching_data(matching_file)"
   ]
  },
  {
   "cell_type": "code",
   "execution_count": 17,
   "id": "b27764d6-4a2b-4d3c-9b2f-a05df6948754",
   "metadata": {},
   "outputs": [
    {
     "data": {
      "text/plain": [
       "{'TP': 247, 'FP': 656, 'TN': 86572, 'FN': 347}"
      ]
     },
     "execution_count": 17,
     "metadata": {},
     "output_type": "execute_result"
    }
   ],
   "source": [
    "confusion_matrix = metrics.calc_confusion_matrix(true_markup, pred_markup, n_ads=len(ads), n_requests=len(requests))\n",
    "confusion_matrix"
   ]
  },
  {
   "cell_type": "code",
   "execution_count": 18,
   "id": "42ece8ca-b413-497a-ac21-beee4be7385c",
   "metadata": {},
   "outputs": [
    {
     "data": {
      "text/plain": [
       "{'accuracy': 0.9885791715060007,\n",
       " 'precision': 0.27353266888150607,\n",
       " 'recall': 0.4158249158249158,\n",
       " 'f1': 0.32999331997327985}"
      ]
     },
     "execution_count": 18,
     "metadata": {},
     "output_type": "execute_result"
    }
   ],
   "source": [
    "stats = metrics.calc_all_stats(confusion_matrix)\n",
    "stats"
   ]
  },
  {
   "cell_type": "code",
   "execution_count": 19,
   "id": "f42b0999-18bd-4c0e-836f-2cde3349f645",
   "metadata": {},
   "outputs": [
    {
     "name": "stdout",
     "output_type": "stream",
     "text": [
      "-----------------------------------------------------------------------------------------\n",
      "|\tMetric\t\t|\tOld Value\t|\tNew Value\t|\tDiff\t|\n",
      "-----------------------------------------------------------------------------------------\n",
      "|\tTP\t\t|\t73\t\t|\t247\t\t|\t📈 174\t|\n",
      "|\tFP\t\t|\t524\t\t|\t656\t\t|\t📈 132\t|\n",
      "|\tTN\t\t|\t86701\t\t|\t86572\t\t|\t📉 -129\t|\n",
      "|\tFN\t\t|\t524\t\t|\t347\t\t|\t📉 -177\t|\n",
      "|\tPrec\t\t|\t0.122\t\t|\t0.274\t\t|\t📈 0.151\t|\n",
      "|\tRecall\t\t|\t0.122\t\t|\t0.416\t\t|\t📈 0.294\t|\n",
      "|\tF1\t\t|\t0.122\t\t|\t0.330\t\t|\t📈 0.208\t|\n",
      "\n",
      "F1 📈 increased by 0.208, up to 33.0%, which is a significant growth 🚀\n"
     ]
    }
   ],
   "source": [
    "metrics.compare_with_saved_stats(stats, confusion_matrix)"
   ]
  },
  {
   "cell_type": "code",
   "execution_count": null,
   "id": "da2a0be0-0730-4809-993b-673270d61086",
   "metadata": {},
   "outputs": [],
   "source": []
  }
 ],
 "metadata": {
  "kernelspec": {
   "display_name": "Python 3 (ipykernel)",
   "language": "python",
   "name": "python3"
  },
  "language_info": {
   "codemirror_mode": {
    "name": "ipython",
    "version": 3
   },
   "file_extension": ".py",
   "mimetype": "text/x-python",
   "name": "python",
   "nbconvert_exporter": "python",
   "pygments_lexer": "ipython3",
   "version": "3.12.10"
  }
 },
 "nbformat": 4,
 "nbformat_minor": 5
}
