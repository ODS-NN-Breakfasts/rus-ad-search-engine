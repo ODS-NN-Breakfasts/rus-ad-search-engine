{
 "cells": [
  {
   "cell_type": "code",
   "execution_count": 3,
   "id": "1e9ac86e",
   "metadata": {},
   "outputs": [],
   "source": [
    "import sys\n",
    "import os\n",
    "notebook_dir = os.getcwd()\n",
    "from sklearn.feature_extraction.text import TfidfVectorizer\n",
    "from sklearn.metrics.pairwise import cosine_similarity\n",
    "from natasha import Segmenter, MorphVocab, NewsEmbedding, NewsMorphTagger, Doc\n",
    "sys.path.append(os.path.abspath(os.path.join(notebook_dir, '..')))"
   ]
  },
  {
   "cell_type": "code",
   "execution_count": 4,
   "id": "b5b91123",
   "metadata": {},
   "outputs": [],
   "source": [
    "import numpy as np\n",
    "from utils import dataset_utils\n",
    "from utils import metrics"
   ]
  },
  {
   "cell_type": "code",
   "execution_count": 5,
   "id": "02ac74af",
   "metadata": {},
   "outputs": [],
   "source": [
    "#Data\n",
    "requests_file = \"../data/request_db.txt\"\n",
    "ads_file = \"../data/ads_db.txt\"\n",
    "matching_file = \"../data/matching_db.txt\""
   ]
  },
  {
   "cell_type": "code",
   "execution_count": 6,
   "id": "9038dfe9",
   "metadata": {},
   "outputs": [],
   "source": [
    "with open(ads_file, encoding=\"utf-8\") as f:\n",
    "    ads_raw = f.readlines()"
   ]
  },
  {
   "cell_type": "code",
   "execution_count": 7,
   "id": "15f2e49f",
   "metadata": {},
   "outputs": [],
   "source": [
    "with open(requests_file, encoding=\"utf-8\") as f:\n",
    "    requests_raw = f.readlines()"
   ]
  },
  {
   "cell_type": "code",
   "execution_count": 8,
   "id": "2a7d9a4a",
   "metadata": {},
   "outputs": [],
   "source": [
    "# Preprocessing with Natasha\n",
    "segmenter = Segmenter()\n",
    "morph_vocab = MorphVocab()\n",
    "emb = NewsEmbedding()\n",
    "morph_tagger = NewsMorphTagger(emb)"
   ]
  },
  {
   "cell_type": "code",
   "execution_count": 9,
   "id": "05550bbc",
   "metadata": {},
   "outputs": [],
   "source": [
    "def preprocess(text):\n",
    "    if isinstance(text, list):\n",
    "        text = \" \".join(text)\n",
    "    text = text.replace(\"\\\\n\", \"\\n\").replace(\"\\n\", \" \")\n",
    "    text = text.strip()\n",
    "    text = text.lower()  # many words has vectors only in lowercase\n",
    "    return text"
   ]
  },
  {
   "cell_type": "code",
   "execution_count": 10,
   "id": "03b9e35e",
   "metadata": {},
   "outputs": [],
   "source": [
    "# Tokenize and lemmatize Russian text using Natasha\n",
    "def normalize_text(text):\n",
    "    preprocess_text = preprocess(text)\n",
    "\n",
    "    doc = Doc(preprocess_text)\n",
    "    doc.segment(segmenter)\n",
    "    doc.tag_morph(morph_tagger)\n",
    "    for token in doc.tokens:\n",
    "        token.lemmatize(morph_vocab)\n",
    "    lemmas = [token.lemma for token in doc.tokens if token.pos != 'PUNCT']\n",
    "    return \" \".join(lemmas)"
   ]
  },
  {
   "cell_type": "code",
   "execution_count": 12,
   "id": "6c3876d4",
   "metadata": {},
   "outputs": [],
   "source": [
    "# Training\n",
    "def train_model(requests, adverts):\n",
    "\n",
    "    normalized_adverts = [normalize_text(a) for a in adverts]\n",
    "\n",
    "    vectorizer = TfidfVectorizer()\n",
    "    X = vectorizer.fit_transform(normalized_adverts)\n",
    "\n",
    "    return vectorizer,X"
   ]
  },
  {
   "cell_type": "code",
   "execution_count": 15,
   "id": "0b9e6de6",
   "metadata": {},
   "outputs": [],
   "source": [
    "vectorizer_model, trained_model = train_model(requests_raw, ads_raw)"
   ]
  },
  {
   "cell_type": "code",
   "execution_count": 17,
   "id": "3d6d18e6",
   "metadata": {},
   "outputs": [
    {
     "name": "stdout",
     "output_type": "stream",
     "text": [
      "<Compressed Sparse Row sparse matrix of dtype 'float64'\n",
      "\twith 8694 stored elements and shape (246, 3755)>\n",
      "  Coords\tValues\n",
      "  (0, 709)\t0.07017711229025014\n",
      "  (0, 1610)\t0.21302554410784355\n",
      "  (0, 1979)\t0.11449447601892461\n",
      "  (0, 1296)\t0.09286795900152474\n",
      "  (0, 3177)\t0.11449447601892461\n",
      "  (0, 3602)\t0.09286795900152474\n",
      "  (0, 2990)\t0.10084966296652759\n",
      "  (0, 339)\t0.11449447601892461\n",
      "  (0, 2519)\t0.18573591800304948\n",
      "  (0, 2880)\t0.11449447601892461\n",
      "  (0, 2406)\t0.16187198273492895\n",
      "  (0, 1913)\t0.24280797410239344\n",
      "  (0, 1017)\t0.11449447601892461\n",
      "  (0, 1574)\t0.11449447601892461\n",
      "  (0, 364)\t0.22898895203784922\n",
      "  (0, 322)\t0.22898895203784922\n",
      "  (0, 2387)\t0.1725928900089155\n",
      "  (0, 993)\t0.08488625503652192\n",
      "  (0, 3163)\t0.09286795900152474\n",
      "  (0, 2263)\t0.11449447601892461\n",
      "  (0, 2977)\t0.08720484991413055\n",
      "  (0, 1056)\t0.11449447601892461\n",
      "  (0, 127)\t0.0964570142954752\n",
      "  (0, 11)\t0.21302554410784355\n",
      "  (0, 69)\t0.089833455988119\n",
      "  :\t:\n",
      "  (245, 3073)\t0.16370125424422854\n",
      "  (245, 2403)\t0.15545535854446424\n",
      "  (245, 1755)\t0.2596825339590938\n",
      "  (245, 789)\t0.16370125424422854\n",
      "  (245, 2554)\t0.1686356829101757\n",
      "  (245, 2818)\t0.18931534580914589\n",
      "  (245, 497)\t0.15545535854446424\n",
      "  (245, 1357)\t0.2249461422287877\n",
      "  (245, 698)\t0.1999461543185485\n",
      "  (245, 3264)\t0.15934877969811645\n",
      "  (245, 2599)\t0.18106945010938158\n",
      "  (245, 370)\t0.18931534580914589\n",
      "  (245, 703)\t0.18931534580914589\n",
      "  (245, 883)\t0.1686356829101757\n",
      "  (245, 690)\t0.1686356829101757\n",
      "  (245, 1130)\t0.16370125424422854\n",
      "  (245, 2104)\t0.18106945010938158\n",
      "  (245, 2847)\t0.1999461543185485\n",
      "  (245, 1656)\t0.21492943737406323\n",
      "  (245, 866)\t0.21492943737406323\n",
      "  (245, 2817)\t0.21492943737406323\n",
      "  (245, 1378)\t0.21492943737406323\n",
      "  (245, 1614)\t0.21492943737406323\n",
      "  (245, 251)\t0.21492943737406323\n",
      "  (245, 3293)\t0.21492943737406323\n"
     ]
    }
   ],
   "source": [
    "print(trained_model)"
   ]
  },
  {
   "cell_type": "code",
   "execution_count": 18,
   "id": "1c6155da",
   "metadata": {},
   "outputs": [
    {
     "name": "stdout",
     "output_type": "stream",
     "text": [
      "\n",
      "Query: пальто\n",
      "Top relevant adverts:\n",
      "  - 'Пальто желтое размер 42-44, рукава три четверти. Цена 1000руб.'\n",
      "  (score=0.353)\n"
     ]
    }
   ],
   "source": [
    "query_text = \"пальто\"\n",
    "adverts = ads_raw\n",
    "top_k = 1\n",
    "results = {}\n",
    "normalized_query = normalize_text(query_text)\n",
    "query_vec = vectorizer_model.transform([normalized_query])\n",
    "\n",
    "adverts_vec = vectorizer_model.transform([normalize_text(a) for a in adverts])\n",
    "sims = cosine_similarity(query_vec, adverts_vec)[0]\n",
    "\n",
    "top_idx = sims.argsort()[-top_k:][::-1]\n",
    "print(f\"\\nQuery: {query_text}\")\n",
    "print(\"Top relevant adverts:\")\n",
    "for idx in top_idx:\n",
    "    print(f\"  - {adverts[idx]}  (score={sims[idx]:.3f})\")\n",
    "    results[idx] = [adverts[j] for j in top_idx]\n"
   ]
  },
  {
   "cell_type": "code",
   "execution_count": 19,
   "id": "86650712",
   "metadata": {},
   "outputs": [],
   "source": [
    "# Calculate cosine similarity between query and advert TF-IDF vectors\n",
    "def calc_similarity(normalized_query, adverts, vectorizer_model):\n",
    "    query_vec = vectorizer_model.transform([normalized_query])\n",
    "    adverts_vec = vectorizer_model.transform([normalize_text(a) for a in adverts])\n",
    "    sims = cosine_similarity(query_vec, adverts_vec)[0]\n",
    "    return sims.tolist()"
   ]
  },
  {
   "cell_type": "code",
   "execution_count": 20,
   "id": "bfc5b174",
   "metadata": {},
   "outputs": [],
   "source": [
    "# Return indices of adverts with similarity above threshold\n",
    "def find_indices(scores, threshold=0.5):\n",
    "    return [i for i, s in enumerate(scores) if s >= threshold]"
   ]
  },
  {
   "cell_type": "code",
   "execution_count": 21,
   "id": "b47b4d64",
   "metadata": {},
   "outputs": [],
   "source": [
    "#Predicts relevant adverts for each query using cosine similarity of TF-IDF vectors.\n",
    "def predict(requests, adverts, vectorizer_model, threshold=0.5):\n",
    "    predictions = {}\n",
    "\n",
    "    for i, req in enumerate(requests):\n",
    "        normalized_query = normalize_text(req)\n",
    "        scores = calc_similarity(normalized_query, adverts, vectorizer_model)\n",
    "        indices = find_indices(scores, threshold)\n",
    "\n",
    "        if indices:\n",
    "            predictions[str(i + 1)] = [str(idx + 1) for idx in indices]\n",
    "\n",
    "    return predictions"
   ]
  },
  {
   "cell_type": "code",
   "execution_count": 22,
   "id": "899c9a94",
   "metadata": {},
   "outputs": [],
   "source": [
    "pred_markup = predict(requests_raw, ads_raw,vectorizer_model, threshold=0.6)"
   ]
  },
  {
   "cell_type": "code",
   "execution_count": 23,
   "id": "059d0063",
   "metadata": {},
   "outputs": [
    {
     "name": "stdout",
     "output_type": "stream",
     "text": [
      "{'12': ['102'], '133': ['44'], '175': ['41'], '216': ['111'], '217': ['111'], '219': ['111'], '238': ['125'], '279': ['41'], '350': ['84']}\n"
     ]
    }
   ],
   "source": [
    "print(pred_markup)"
   ]
  },
  {
   "cell_type": "code",
   "execution_count": 24,
   "id": "73aacc1d",
   "metadata": {},
   "outputs": [],
   "source": [
    "true_markup = dataset_utils.load_matching_data(matching_file)"
   ]
  },
  {
   "cell_type": "code",
   "execution_count": 28,
   "id": "9f46b247",
   "metadata": {},
   "outputs": [
    {
     "data": {
      "text/plain": [
       "{'TP': 5, 'FP': 4, 'TN': 87221, 'FN': 592}"
      ]
     },
     "execution_count": 28,
     "metadata": {},
     "output_type": "execute_result"
    }
   ],
   "source": [
    "confusion_matrix = metrics.calc_confusion_matrix(true_markup, pred_markup, n_ads=len(ads_raw), n_requests=len(requests_raw))\n",
    "confusion_matrix"
   ]
  },
  {
   "cell_type": "code",
   "execution_count": 29,
   "id": "1e334fa1",
   "metadata": {},
   "outputs": [
    {
     "data": {
      "text/plain": [
       "{'accuracy': 0.993213545580834,\n",
       " 'precision': 0.5555555555555556,\n",
       " 'recall': 0.008375209380234505,\n",
       " 'f1': 0.0165016501650165}"
      ]
     },
     "execution_count": 29,
     "metadata": {},
     "output_type": "execute_result"
    }
   ],
   "source": [
    "stats = metrics.calc_all_stats(confusion_matrix)\n",
    "stats"
   ]
  },
  {
   "cell_type": "code",
   "execution_count": 30,
   "id": "1888b61a",
   "metadata": {},
   "outputs": [
    {
     "name": "stdout",
     "output_type": "stream",
     "text": [
      "-----------------------------------------------------------------------------------------\n",
      "|\tMetric\t\t|\tOld Value\t|\tNew Value\t|\tDiff\t|\n",
      "-----------------------------------------------------------------------------------------\n",
      "|\tTP\t\t|\t73\t\t|\t5\t\t|\t📉 -68\t|\n",
      "|\tFP\t\t|\t524\t\t|\t4\t\t|\t📉 -520\t|\n",
      "|\tTN\t\t|\t86701\t\t|\t87221\t\t|\t📈 520\t|\n",
      "|\tFN\t\t|\t524\t\t|\t592\t\t|\t📈 68\t|\n",
      "|\tPrec\t\t|\t0.122\t\t|\t0.556\t\t|\t📈 0.433\t|\n",
      "|\tRecall\t\t|\t0.122\t\t|\t0.008\t\t|\t📉 -0.114\t|\n",
      "|\tF1\t\t|\t0.122\t\t|\t0.017\t\t|\t📉 -0.106\t|\n",
      "\n",
      "F1 📉 decreased by 0.106, down to 1.7%, which is a significant fall.\n"
     ]
    }
   ],
   "source": [
    "metrics.compare_with_saved_stats(stats, confusion_matrix)"
   ]
  }
 ],
 "metadata": {
  "kernelspec": {
   "display_name": ".venv",
   "language": "python",
   "name": "python3"
  },
  "language_info": {
   "codemirror_mode": {
    "name": "ipython",
    "version": 3
   },
   "file_extension": ".py",
   "mimetype": "text/x-python",
   "name": "python",
   "nbconvert_exporter": "python",
   "pygments_lexer": "ipython3",
   "version": "3.10.11"
  }
 },
 "nbformat": 4,
 "nbformat_minor": 5
}
