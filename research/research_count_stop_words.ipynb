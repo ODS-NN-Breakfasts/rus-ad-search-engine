{
 "cells": [
  {
   "cell_type": "markdown",
   "id": "5e453d18",
   "metadata": {},
   "source": [
    "in this notebook I calculated avg number of words in requests set and in adverts set.\n",
    "then researched unique words in both dataset and compare this number\n",
    "\n",
    "1 I get lemma for each words in adverts and request\n",
    "2 put all lemmas in one bag of words\n",
    "3 calculate part of most popular words (for example top20 word is eauale 16% of unique words)\n",
    "4 The most popular words is transformed to stop-list. I think this words are less usefull, but demand resources.\n",
    "5 Exlude stop-words from advertsset\n",
    "6 check metrics"
   ]
  },
  {
   "cell_type": "markdown",
   "id": "2a954935-101c-4841-8c41-4a18cca2025a",
   "metadata": {},
   "source": [
    "# Preparation"
   ]
  },
  {
   "cell_type": "code",
   "execution_count": 1,
   "id": "1c5004a5-d749-4e74-bf7d-d9df54a8f4ab",
   "metadata": {},
   "outputs": [],
   "source": [
    "import sys\n",
    "import os\n",
    "notebook_dir = os.getcwd()\n",
    "sys.path.append(os.path.abspath(os.path.join(notebook_dir, '..')))"
   ]
  },
  {
   "cell_type": "code",
   "execution_count": 2,
   "id": "7e102af4-77be-47b5-a51f-e75f3712582c",
   "metadata": {},
   "outputs": [],
   "source": [
    "import numpy as np\n",
    "import pandas as pd\n",
    "import matplotlib.pyplot as plt\n",
    "\n",
    "import spacy\n",
    "from dataset_tools.utils import load_matching_data\n",
    "from research.metrics import confusion_matrix_micro, evaluate\n",
    "from tqdm import tqdm\n",
    "\n",
    "from typing import List\n",
    "import pymorphy3"
   ]
  },
  {
   "cell_type": "code",
   "execution_count": 3,
   "id": "73ab2edd-2bc8-4a00-b444-65a769a5047a",
   "metadata": {},
   "outputs": [],
   "source": [
    "# %%time\n",
    "# !python -m spacy download ru_core_news_lg"
   ]
  },
  {
   "cell_type": "markdown",
   "id": "74c827cd-357d-4a33-9448-cc3da687f0c5",
   "metadata": {},
   "source": [
    "# Data"
   ]
  },
  {
   "cell_type": "code",
   "execution_count": 4,
   "id": "7c306d86-335d-4c59-922d-7439d679e2a5",
   "metadata": {},
   "outputs": [],
   "source": [
    "requests_file = \"../data/request_db.txt\"\n",
    "ads_file = \"../data/ads_db.txt\"\n",
    "matching_file = \"../data/matching_db.txt\""
   ]
  },
  {
   "cell_type": "code",
   "execution_count": 5,
   "id": "7f8de263-eb4e-4003-b51c-6cbe392a63ae",
   "metadata": {},
   "outputs": [],
   "source": [
    "with open(ads_file, encoding=\"utf-8\") as f:\n",
    "    ads_raw = f.readlines()"
   ]
  },
  {
   "cell_type": "code",
   "execution_count": 6,
   "id": "501fe2d3-4e47-4b73-81e8-25eaeb1c207a",
   "metadata": {},
   "outputs": [],
   "source": [
    "with open(requests_file, encoding=\"utf-8\") as f:\n",
    "    requests_raw = f.readlines()"
   ]
  },
  {
   "cell_type": "markdown",
   "id": "b799bed7-d56b-44fb-833f-9bfdb90be976",
   "metadata": {},
   "source": [
    "# Preprocessing"
   ]
  },
  {
   "cell_type": "code",
   "execution_count": 7,
   "id": "6633dc6b-6691-4b98-87b5-b99448636c0e",
   "metadata": {},
   "outputs": [],
   "source": [
    "# nlp = spacy.load(\"ru_core_news_lg\")"
   ]
  },
  {
   "cell_type": "code",
   "execution_count": 8,
   "id": "daf61aaa-3e70-4d68-aa93-5cc0872445ba",
   "metadata": {},
   "outputs": [],
   "source": [
    "def preprocessing(text):\n",
    "    text = text.replace(\"\\\\n\", \"\\n\").replace(\"\\n\", \" \")\n",
    "    text = text.strip()\n",
    "    text = text.lower()  # many words has vectors inly in lowercase\n",
    "    return text"
   ]
  },
  {
   "cell_type": "code",
   "execution_count": 9,
   "id": "30654ef7",
   "metadata": {},
   "outputs": [],
   "source": [
    "morph = pymorphy3.MorphAnalyzer()\n",
    "\n",
    "def lemmatizer(morph, text):\n",
    "    return morph.parse(text)[0].normal_form\n",
    "    \n",
    "def flat_lemma(morph, texts):\n",
    "    texts_prepared = [preprocessing(text) for text in texts]\n",
    "\n",
    "    result_intermediate = []\n",
    "    result = []\n",
    "    for line in texts_prepared:\n",
    "        text_lemma = [lemmatizer(morph, text) for text in line.split()]\n",
    "        result_intermediate.append(text_lemma)\n",
    "        for word in text_lemma:\n",
    "            result.append(word)\n",
    "\n",
    "    return result, result_intermediate"
   ]
  },
  {
   "cell_type": "code",
   "execution_count": 10,
   "id": "00363247-bb15-4d4f-bed3-0712e17df170",
   "metadata": {
    "scrolled": true
   },
   "outputs": [],
   "source": [
    "# get list of text\n",
    "ads_lemma, ads_lemma_ = flat_lemma(morph, ads_raw)\n",
    "requests_lemma, requests_lemma_ = flat_lemma(morph, requests_raw)"
   ]
  },
  {
   "cell_type": "code",
   "execution_count": 11,
   "id": "a896dbdc",
   "metadata": {},
   "outputs": [],
   "source": [
    "# count word in each advert and request\n",
    "count_adv = []\n",
    "count_req = []\n",
    "\n",
    "for text in ads_lemma_:\n",
    "    count_adv.append(len(text))\n",
    "\n",
    "\n",
    "for text in requests_lemma_:\n",
    "    count_req.append(len(text))"
   ]
  },
  {
   "cell_type": "markdown",
   "id": "76b0dd25-086e-4f0c-89e6-56258e081d4e",
   "metadata": {},
   "source": [
    "look at distribution for numbers of word in advert and request"
   ]
  },
  {
   "cell_type": "code",
   "execution_count": 12,
   "id": "fad4f9c3",
   "metadata": {},
   "outputs": [],
   "source": [
    "import plotly.graph_objs as go\n",
    "\n",
    "def plot_compare_distributions(data1, data2, label1='Distribution 1', label2='Distribution 2', bins=30, name_title = None):\n",
    "    fig = go.Figure()\n",
    "\n",
    "    fig.add_trace(go.Histogram(x=data1, nbinsx=bins, name=label1, opacity=0.6))\n",
    "    fig.add_trace(go.Histogram(x=data2, nbinsx=bins, name=label2, opacity=0.6))\n",
    "\n",
    "    fig.update_layout(barmode='overlay',\n",
    "                      title=name_title,\n",
    "                      xaxis_title='Value',\n",
    "                      yaxis_title='Count',\n",
    "                      legend_title='Distributions')\n",
    "    \n",
    "    fig.show()"
   ]
  },
  {
   "cell_type": "code",
   "execution_count": 13,
   "id": "dc8d64f0",
   "metadata": {},
   "outputs": [
    {
     "data": {
      "application/vnd.plotly.v1+json": {
       "config": {
        "plotlyServerURL": "https://plot.ly"
       },
       "data": [
        {
         "name": "Number of word in advert",
         "nbinsx": 100,
         "opacity": 0.6,
         "type": "histogram",
         "x": [
          96,
          113,
          11,
          104,
          10,
          11,
          40,
          750,
          37,
          287,
          84,
          85,
          57,
          89,
          24,
          30,
          33,
          18,
          464,
          66,
          210,
          16,
          122,
          17,
          13,
          5,
          48,
          23,
          146,
          37,
          37,
          259,
          11,
          13,
          3,
          65,
          45,
          70,
          13,
          9,
          2,
          3,
          81,
          4,
          8,
          30,
          69,
          50,
          24,
          51,
          49,
          55,
          178,
          53,
          36,
          45,
          89,
          14,
          19,
          42,
          27,
          19,
          28,
          35,
          75,
          37,
          40,
          12,
          13,
          88,
          88,
          48,
          72,
          97,
          15,
          42,
          53,
          4,
          10,
          3,
          186,
          8,
          105,
          7,
          20,
          76,
          17,
          73,
          31,
          47,
          128,
          15,
          42,
          7,
          25,
          13,
          4,
          7,
          11,
          11,
          15,
          9,
          7,
          17,
          24,
          16,
          10,
          10,
          13,
          22,
          13,
          4,
          15,
          8,
          11,
          28,
          13,
          5,
          14,
          13,
          8,
          13,
          12,
          8,
          3,
          40,
          40,
          18,
          3,
          16,
          52,
          40,
          9,
          15,
          107,
          9,
          23,
          36,
          18,
          26,
          26,
          26,
          85,
          81,
          43,
          18,
          17,
          16,
          23,
          86,
          36,
          136,
          14,
          74,
          6,
          56,
          39,
          27,
          9,
          35,
          18,
          22,
          38,
          42,
          29,
          7,
          160,
          15,
          104,
          21,
          10,
          30,
          15,
          26,
          49,
          55,
          32,
          125,
          23,
          27,
          8,
          89,
          36,
          56,
          10,
          19,
          42,
          97,
          81,
          43,
          16,
          19,
          12,
          4,
          9,
          4,
          43,
          100,
          9,
          12,
          181,
          33,
          28,
          13,
          10,
          14,
          12,
          58,
          4,
          189,
          94,
          72,
          95,
          70,
          128,
          21,
          41,
          42,
          61,
          15,
          16,
          65,
          77,
          47,
          65,
          71,
          84,
          107,
          116,
          19,
          33,
          43,
          18,
          72,
          204,
          46,
          66,
          115,
          43,
          21,
          47,
          51,
          75,
          57,
          131,
          31
         ]
        },
        {
         "name": "Number of word in request",
         "nbinsx": 100,
         "opacity": 0.6,
         "type": "histogram",
         "x": [
          4,
          5,
          4,
          6,
          5,
          3,
          2,
          3,
          1,
          4,
          3,
          3,
          3,
          3,
          4,
          2,
          3,
          3,
          3,
          3,
          5,
          4,
          3,
          4,
          3,
          3,
          2,
          2,
          3,
          4,
          2,
          2,
          2,
          5,
          2,
          3,
          2,
          3,
          4,
          2,
          4,
          3,
          4,
          2,
          2,
          2,
          1,
          2,
          2,
          2,
          2,
          2,
          2,
          2,
          2,
          5,
          2,
          1,
          2,
          2,
          2,
          3,
          3,
          2,
          2,
          2,
          2,
          3,
          4,
          2,
          2,
          2,
          3,
          2,
          1,
          1,
          2,
          2,
          3,
          2,
          2,
          3,
          2,
          3,
          2,
          2,
          2,
          3,
          4,
          3,
          3,
          4,
          3,
          4,
          2,
          2,
          2,
          2,
          2,
          3,
          6,
          5,
          3,
          5,
          4,
          4,
          3,
          4,
          5,
          6,
          4,
          3,
          4,
          1,
          5,
          3,
          3,
          2,
          2,
          4,
          2,
          2,
          2,
          2,
          5,
          5,
          3,
          2,
          3,
          2,
          2,
          3,
          2,
          2,
          4,
          1,
          3,
          1,
          4,
          4,
          7,
          2,
          3,
          3,
          2,
          3,
          3,
          2,
          2,
          1,
          1,
          1,
          1,
          1,
          1,
          1,
          2,
          2,
          1,
          3,
          3,
          3,
          2,
          6,
          4,
          3,
          3,
          1,
          2,
          3,
          3,
          3,
          1,
          3,
          2,
          4,
          3,
          2,
          2,
          2,
          2,
          3,
          2,
          3,
          2,
          2,
          2,
          4,
          3,
          4,
          2,
          2,
          4,
          3,
          2,
          2,
          2,
          3,
          2,
          3,
          4,
          2,
          4,
          2,
          2,
          2,
          2,
          3,
          2,
          4,
          4,
          4,
          2,
          3,
          2,
          2,
          2,
          4,
          2,
          2,
          2,
          2,
          2,
          2,
          2,
          2,
          3,
          2,
          4,
          2,
          2,
          2,
          2,
          2,
          2,
          2,
          3,
          3,
          4,
          2,
          2,
          3,
          2,
          1,
          1,
          4,
          2,
          8,
          2,
          6,
          2,
          3,
          3,
          2,
          2,
          2,
          3,
          2,
          3,
          3,
          4,
          3,
          3,
          3,
          3,
          3,
          3,
          3,
          3,
          3,
          1,
          3,
          4,
          1,
          2,
          3,
          3,
          2,
          2,
          3,
          1,
          3,
          4,
          2,
          1,
          3,
          4,
          1,
          2,
          1,
          3,
          1,
          2,
          1,
          2,
          1,
          4,
          2,
          1,
          2,
          2,
          2,
          1,
          1,
          1,
          2,
          3,
          2,
          2,
          1,
          1,
          1,
          1,
          2,
          2,
          1,
          2,
          2,
          1,
          1,
          1,
          1,
          1,
          1,
          2,
          2,
          3,
          1,
          1,
          1,
          1,
          2,
          1,
          3,
          3,
          1,
          2,
          2,
          1,
          3,
          3,
          3,
          1,
          1,
          1,
          1,
          2,
          1,
          1,
          1,
          2,
          3,
          1,
          1,
          1,
          2,
          2
         ]
        }
       ],
       "layout": {
        "barmode": "overlay",
        "legend": {
         "title": {
          "text": "Distributions"
         }
        },
        "template": {
         "data": {
          "bar": [
           {
            "error_x": {
             "color": "#2a3f5f"
            },
            "error_y": {
             "color": "#2a3f5f"
            },
            "marker": {
             "line": {
              "color": "#E5ECF6",
              "width": 0.5
             },
             "pattern": {
              "fillmode": "overlay",
              "size": 10,
              "solidity": 0.2
             }
            },
            "type": "bar"
           }
          ],
          "barpolar": [
           {
            "marker": {
             "line": {
              "color": "#E5ECF6",
              "width": 0.5
             },
             "pattern": {
              "fillmode": "overlay",
              "size": 10,
              "solidity": 0.2
             }
            },
            "type": "barpolar"
           }
          ],
          "carpet": [
           {
            "aaxis": {
             "endlinecolor": "#2a3f5f",
             "gridcolor": "white",
             "linecolor": "white",
             "minorgridcolor": "white",
             "startlinecolor": "#2a3f5f"
            },
            "baxis": {
             "endlinecolor": "#2a3f5f",
             "gridcolor": "white",
             "linecolor": "white",
             "minorgridcolor": "white",
             "startlinecolor": "#2a3f5f"
            },
            "type": "carpet"
           }
          ],
          "choropleth": [
           {
            "colorbar": {
             "outlinewidth": 0,
             "ticks": ""
            },
            "type": "choropleth"
           }
          ],
          "contour": [
           {
            "colorbar": {
             "outlinewidth": 0,
             "ticks": ""
            },
            "colorscale": [
             [
              0,
              "#0d0887"
             ],
             [
              0.1111111111111111,
              "#46039f"
             ],
             [
              0.2222222222222222,
              "#7201a8"
             ],
             [
              0.3333333333333333,
              "#9c179e"
             ],
             [
              0.4444444444444444,
              "#bd3786"
             ],
             [
              0.5555555555555556,
              "#d8576b"
             ],
             [
              0.6666666666666666,
              "#ed7953"
             ],
             [
              0.7777777777777778,
              "#fb9f3a"
             ],
             [
              0.8888888888888888,
              "#fdca26"
             ],
             [
              1,
              "#f0f921"
             ]
            ],
            "type": "contour"
           }
          ],
          "contourcarpet": [
           {
            "colorbar": {
             "outlinewidth": 0,
             "ticks": ""
            },
            "type": "contourcarpet"
           }
          ],
          "heatmap": [
           {
            "colorbar": {
             "outlinewidth": 0,
             "ticks": ""
            },
            "colorscale": [
             [
              0,
              "#0d0887"
             ],
             [
              0.1111111111111111,
              "#46039f"
             ],
             [
              0.2222222222222222,
              "#7201a8"
             ],
             [
              0.3333333333333333,
              "#9c179e"
             ],
             [
              0.4444444444444444,
              "#bd3786"
             ],
             [
              0.5555555555555556,
              "#d8576b"
             ],
             [
              0.6666666666666666,
              "#ed7953"
             ],
             [
              0.7777777777777778,
              "#fb9f3a"
             ],
             [
              0.8888888888888888,
              "#fdca26"
             ],
             [
              1,
              "#f0f921"
             ]
            ],
            "type": "heatmap"
           }
          ],
          "histogram": [
           {
            "marker": {
             "pattern": {
              "fillmode": "overlay",
              "size": 10,
              "solidity": 0.2
             }
            },
            "type": "histogram"
           }
          ],
          "histogram2d": [
           {
            "colorbar": {
             "outlinewidth": 0,
             "ticks": ""
            },
            "colorscale": [
             [
              0,
              "#0d0887"
             ],
             [
              0.1111111111111111,
              "#46039f"
             ],
             [
              0.2222222222222222,
              "#7201a8"
             ],
             [
              0.3333333333333333,
              "#9c179e"
             ],
             [
              0.4444444444444444,
              "#bd3786"
             ],
             [
              0.5555555555555556,
              "#d8576b"
             ],
             [
              0.6666666666666666,
              "#ed7953"
             ],
             [
              0.7777777777777778,
              "#fb9f3a"
             ],
             [
              0.8888888888888888,
              "#fdca26"
             ],
             [
              1,
              "#f0f921"
             ]
            ],
            "type": "histogram2d"
           }
          ],
          "histogram2dcontour": [
           {
            "colorbar": {
             "outlinewidth": 0,
             "ticks": ""
            },
            "colorscale": [
             [
              0,
              "#0d0887"
             ],
             [
              0.1111111111111111,
              "#46039f"
             ],
             [
              0.2222222222222222,
              "#7201a8"
             ],
             [
              0.3333333333333333,
              "#9c179e"
             ],
             [
              0.4444444444444444,
              "#bd3786"
             ],
             [
              0.5555555555555556,
              "#d8576b"
             ],
             [
              0.6666666666666666,
              "#ed7953"
             ],
             [
              0.7777777777777778,
              "#fb9f3a"
             ],
             [
              0.8888888888888888,
              "#fdca26"
             ],
             [
              1,
              "#f0f921"
             ]
            ],
            "type": "histogram2dcontour"
           }
          ],
          "mesh3d": [
           {
            "colorbar": {
             "outlinewidth": 0,
             "ticks": ""
            },
            "type": "mesh3d"
           }
          ],
          "parcoords": [
           {
            "line": {
             "colorbar": {
              "outlinewidth": 0,
              "ticks": ""
             }
            },
            "type": "parcoords"
           }
          ],
          "pie": [
           {
            "automargin": true,
            "type": "pie"
           }
          ],
          "scatter": [
           {
            "fillpattern": {
             "fillmode": "overlay",
             "size": 10,
             "solidity": 0.2
            },
            "type": "scatter"
           }
          ],
          "scatter3d": [
           {
            "line": {
             "colorbar": {
              "outlinewidth": 0,
              "ticks": ""
             }
            },
            "marker": {
             "colorbar": {
              "outlinewidth": 0,
              "ticks": ""
             }
            },
            "type": "scatter3d"
           }
          ],
          "scattercarpet": [
           {
            "marker": {
             "colorbar": {
              "outlinewidth": 0,
              "ticks": ""
             }
            },
            "type": "scattercarpet"
           }
          ],
          "scattergeo": [
           {
            "marker": {
             "colorbar": {
              "outlinewidth": 0,
              "ticks": ""
             }
            },
            "type": "scattergeo"
           }
          ],
          "scattergl": [
           {
            "marker": {
             "colorbar": {
              "outlinewidth": 0,
              "ticks": ""
             }
            },
            "type": "scattergl"
           }
          ],
          "scattermap": [
           {
            "marker": {
             "colorbar": {
              "outlinewidth": 0,
              "ticks": ""
             }
            },
            "type": "scattermap"
           }
          ],
          "scattermapbox": [
           {
            "marker": {
             "colorbar": {
              "outlinewidth": 0,
              "ticks": ""
             }
            },
            "type": "scattermapbox"
           }
          ],
          "scatterpolar": [
           {
            "marker": {
             "colorbar": {
              "outlinewidth": 0,
              "ticks": ""
             }
            },
            "type": "scatterpolar"
           }
          ],
          "scatterpolargl": [
           {
            "marker": {
             "colorbar": {
              "outlinewidth": 0,
              "ticks": ""
             }
            },
            "type": "scatterpolargl"
           }
          ],
          "scatterternary": [
           {
            "marker": {
             "colorbar": {
              "outlinewidth": 0,
              "ticks": ""
             }
            },
            "type": "scatterternary"
           }
          ],
          "surface": [
           {
            "colorbar": {
             "outlinewidth": 0,
             "ticks": ""
            },
            "colorscale": [
             [
              0,
              "#0d0887"
             ],
             [
              0.1111111111111111,
              "#46039f"
             ],
             [
              0.2222222222222222,
              "#7201a8"
             ],
             [
              0.3333333333333333,
              "#9c179e"
             ],
             [
              0.4444444444444444,
              "#bd3786"
             ],
             [
              0.5555555555555556,
              "#d8576b"
             ],
             [
              0.6666666666666666,
              "#ed7953"
             ],
             [
              0.7777777777777778,
              "#fb9f3a"
             ],
             [
              0.8888888888888888,
              "#fdca26"
             ],
             [
              1,
              "#f0f921"
             ]
            ],
            "type": "surface"
           }
          ],
          "table": [
           {
            "cells": {
             "fill": {
              "color": "#EBF0F8"
             },
             "line": {
              "color": "white"
             }
            },
            "header": {
             "fill": {
              "color": "#C8D4E3"
             },
             "line": {
              "color": "white"
             }
            },
            "type": "table"
           }
          ]
         },
         "layout": {
          "annotationdefaults": {
           "arrowcolor": "#2a3f5f",
           "arrowhead": 0,
           "arrowwidth": 1
          },
          "autotypenumbers": "strict",
          "coloraxis": {
           "colorbar": {
            "outlinewidth": 0,
            "ticks": ""
           }
          },
          "colorscale": {
           "diverging": [
            [
             0,
             "#8e0152"
            ],
            [
             0.1,
             "#c51b7d"
            ],
            [
             0.2,
             "#de77ae"
            ],
            [
             0.3,
             "#f1b6da"
            ],
            [
             0.4,
             "#fde0ef"
            ],
            [
             0.5,
             "#f7f7f7"
            ],
            [
             0.6,
             "#e6f5d0"
            ],
            [
             0.7,
             "#b8e186"
            ],
            [
             0.8,
             "#7fbc41"
            ],
            [
             0.9,
             "#4d9221"
            ],
            [
             1,
             "#276419"
            ]
           ],
           "sequential": [
            [
             0,
             "#0d0887"
            ],
            [
             0.1111111111111111,
             "#46039f"
            ],
            [
             0.2222222222222222,
             "#7201a8"
            ],
            [
             0.3333333333333333,
             "#9c179e"
            ],
            [
             0.4444444444444444,
             "#bd3786"
            ],
            [
             0.5555555555555556,
             "#d8576b"
            ],
            [
             0.6666666666666666,
             "#ed7953"
            ],
            [
             0.7777777777777778,
             "#fb9f3a"
            ],
            [
             0.8888888888888888,
             "#fdca26"
            ],
            [
             1,
             "#f0f921"
            ]
           ],
           "sequentialminus": [
            [
             0,
             "#0d0887"
            ],
            [
             0.1111111111111111,
             "#46039f"
            ],
            [
             0.2222222222222222,
             "#7201a8"
            ],
            [
             0.3333333333333333,
             "#9c179e"
            ],
            [
             0.4444444444444444,
             "#bd3786"
            ],
            [
             0.5555555555555556,
             "#d8576b"
            ],
            [
             0.6666666666666666,
             "#ed7953"
            ],
            [
             0.7777777777777778,
             "#fb9f3a"
            ],
            [
             0.8888888888888888,
             "#fdca26"
            ],
            [
             1,
             "#f0f921"
            ]
           ]
          },
          "colorway": [
           "#636efa",
           "#EF553B",
           "#00cc96",
           "#ab63fa",
           "#FFA15A",
           "#19d3f3",
           "#FF6692",
           "#B6E880",
           "#FF97FF",
           "#FECB52"
          ],
          "font": {
           "color": "#2a3f5f"
          },
          "geo": {
           "bgcolor": "white",
           "lakecolor": "white",
           "landcolor": "#E5ECF6",
           "showlakes": true,
           "showland": true,
           "subunitcolor": "white"
          },
          "hoverlabel": {
           "align": "left"
          },
          "hovermode": "closest",
          "mapbox": {
           "style": "light"
          },
          "paper_bgcolor": "white",
          "plot_bgcolor": "#E5ECF6",
          "polar": {
           "angularaxis": {
            "gridcolor": "white",
            "linecolor": "white",
            "ticks": ""
           },
           "bgcolor": "#E5ECF6",
           "radialaxis": {
            "gridcolor": "white",
            "linecolor": "white",
            "ticks": ""
           }
          },
          "scene": {
           "xaxis": {
            "backgroundcolor": "#E5ECF6",
            "gridcolor": "white",
            "gridwidth": 2,
            "linecolor": "white",
            "showbackground": true,
            "ticks": "",
            "zerolinecolor": "white"
           },
           "yaxis": {
            "backgroundcolor": "#E5ECF6",
            "gridcolor": "white",
            "gridwidth": 2,
            "linecolor": "white",
            "showbackground": true,
            "ticks": "",
            "zerolinecolor": "white"
           },
           "zaxis": {
            "backgroundcolor": "#E5ECF6",
            "gridcolor": "white",
            "gridwidth": 2,
            "linecolor": "white",
            "showbackground": true,
            "ticks": "",
            "zerolinecolor": "white"
           }
          },
          "shapedefaults": {
           "line": {
            "color": "#2a3f5f"
           }
          },
          "ternary": {
           "aaxis": {
            "gridcolor": "white",
            "linecolor": "white",
            "ticks": ""
           },
           "baxis": {
            "gridcolor": "white",
            "linecolor": "white",
            "ticks": ""
           },
           "bgcolor": "#E5ECF6",
           "caxis": {
            "gridcolor": "white",
            "linecolor": "white",
            "ticks": ""
           }
          },
          "title": {
           "x": 0.05
          },
          "xaxis": {
           "automargin": true,
           "gridcolor": "white",
           "linecolor": "white",
           "ticks": "",
           "title": {
            "standoff": 15
           },
           "zerolinecolor": "white",
           "zerolinewidth": 2
          },
          "yaxis": {
           "automargin": true,
           "gridcolor": "white",
           "linecolor": "white",
           "ticks": "",
           "title": {
            "standoff": 15
           },
           "zerolinecolor": "white",
           "zerolinewidth": 2
          }
         }
        },
        "title": {
         "text": "Distribution of word's number"
        },
        "xaxis": {
         "title": {
          "text": "Value"
         }
        },
        "yaxis": {
         "title": {
          "text": "Count"
         }
        }
       }
      }
     },
     "metadata": {},
     "output_type": "display_data"
    }
   ],
   "source": [
    "plot_compare_distributions(count_adv,\n",
    "                           count_req,\n",
    "                           label1='Number of word in advert',\n",
    "                           label2='Number of word in request',\n",
    "                           bins=100,\n",
    "                           name_title = \"Distribution of word's number\")"
   ]
  },
  {
   "cell_type": "code",
   "execution_count": 14,
   "id": "a6144729",
   "metadata": {},
   "outputs": [],
   "source": [
    "ads_lemma_unique = list(set(ads_lemma))\n",
    "req_lemma_unique = list(set(requests_lemma))"
   ]
  },
  {
   "cell_type": "code",
   "execution_count": 15,
   "id": "ab07ad41",
   "metadata": {},
   "outputs": [
    {
     "name": "stdout",
     "output_type": "stream",
     "text": [
      "ads 5597\n",
      "request 430\n"
     ]
    }
   ],
   "source": [
    "# число уникальных слов в объявлениях и в запросах\n",
    "# number of unique words in adverts and in requests\n",
    "print(\"ads\", len(ads_lemma_unique))\n",
    "print(\"request\", len(req_lemma_unique))"
   ]
  },
  {
   "cell_type": "code",
   "execution_count": 16,
   "id": "4364587d",
   "metadata": {},
   "outputs": [
    {
     "name": "stdout",
     "output_type": "stream",
     "text": [
      "ads raw 12186\n",
      "request raw 894\n"
     ]
    }
   ],
   "source": [
    "# общее число слов в объявлениях и в запросах\n",
    "# total number of words in adverts and in requests\n",
    "\n",
    "print(\"ads raw\", len(ads_lemma))\n",
    "print(\"request raw\" , len(requests_lemma))"
   ]
  },
  {
   "cell_type": "code",
   "execution_count": 17,
   "id": "ad3798e2",
   "metadata": {},
   "outputs": [],
   "source": [
    "# research most popular word in advert\n",
    "df_ads_lemma = pd.DataFrame(ads_lemma)"
   ]
  },
  {
   "cell_type": "code",
   "execution_count": 18,
   "id": "66566dab",
   "metadata": {},
   "outputs": [],
   "source": [
    "# calculate part of the most popular words \n",
    "\n",
    "most_frequance_words = []\n",
    "\n",
    "for slice in range(5,100,5):\n",
    "    freq_value = np.sum(df_ads_lemma.value_counts().head(slice)/df_ads_lemma.shape[0])\n",
    "    most_frequance_words.append(freq_value)"
   ]
  },
  {
   "cell_type": "code",
   "execution_count": 19,
   "id": "26c0db5a",
   "metadata": {},
   "outputs": [
    {
     "data": {
      "image/png": "[encoded data removed]",
      "text/plain": [
       "<Figure size 640x480 with 1 Axes>"
      ]
     },
     "metadata": {},
     "output_type": "display_data"
    }
   ],
   "source": [
    "plt.scatter(range(5,100,5), most_frequance_words)\n",
    "plt.xlabel(\"The most popular words\")\n",
    "plt.ylabel(\"The part of the most popular words\")\n",
    "plt.show()"
   ]
  },
  {
   "cell_type": "code",
   "execution_count": 20,
   "id": "00db9293",
   "metadata": {},
   "outputs": [],
   "source": [
    "stop_words = list(df_ads_lemma.value_counts().head(50).index.values)"
   ]
  },
  {
   "cell_type": "code",
   "execution_count": 21,
   "id": "8d9f57c8",
   "metadata": {},
   "outputs": [],
   "source": [
    "stop_words = [word[0] for word in stop_words]"
   ]
  },
  {
   "cell_type": "markdown",
   "id": "d1e5f74c",
   "metadata": {},
   "source": [
    "# Here base pipeline started"
   ]
  },
  {
   "cell_type": "code",
   "execution_count": 22,
   "id": "d1f007f7",
   "metadata": {},
   "outputs": [],
   "source": [
    "nlp = spacy.load(\"ru_core_news_lg\")"
   ]
  },
  {
   "cell_type": "code",
   "execution_count": 23,
   "id": "97cb30f4",
   "metadata": {},
   "outputs": [],
   "source": [
    "def exclude_stop_words(morph, line:str, stop_words:List[str]):\n",
    "    \"\"\"function check words in line and exlude word in stop list\n",
    "    \"\"\"\n",
    "    line = [lemmatizer(morph, word) for word in line.split()]\n",
    "    line = [word for word in line if word not in stop_words] \n",
    "    line = ' '.join(line)\n",
    "\n",
    "    return line\n",
    "\n",
    "def each_word_to_nlp(line:str):\n",
    "    \"\"\" split each advert to word and each word transform to vector (to spacy data format) \n",
    "    \"\"\"\n",
    "\n",
    "    return [nlp(word) for word in line.split()]"
   ]
  },
  {
   "cell_type": "code",
   "execution_count": 24,
   "id": "046e3d89",
   "metadata": {},
   "outputs": [],
   "source": [
    "# get list of text\n",
    "ads_text = [preprocessing(text) for text in ads_raw]\n",
    "ads_text = [exclude_stop_words(morph, text, stop_words) for text in ads_text]\n",
    "\n",
    "# get list of word embedings from text --- list of text > each text split to word > each word transform to vector\n",
    "ads = [each_word_to_nlp(line) for line in ads_text] # vector "
   ]
  },
  {
   "cell_type": "code",
   "execution_count": 25,
   "id": "9194120c",
   "metadata": {},
   "outputs": [],
   "source": [
    "ads_ = [nlp(preprocessing(text)) for text in ads_text] # baseline vector with changes include lemma and exclude top stop_words"
   ]
  },
  {
   "cell_type": "code",
   "execution_count": 26,
   "id": "9b74bd9e",
   "metadata": {},
   "outputs": [],
   "source": [
    "requests = [nlp(preprocessing(text)) for text in requests_raw]"
   ]
  },
  {
   "cell_type": "code",
   "execution_count": 27,
   "id": "73669d58-d01f-4707-b8dc-a943792d7f1b",
   "metadata": {},
   "outputs": [
    {
     "name": "stdout",
     "output_type": "stream",
     "text": [
      "снуд вязанный\n",
      "дкарандши\n",
      "беговел\n",
      "экомешочки\n",
      "шифонер\n",
      "электросамокат\n",
      "самосбор\n",
      "онтоновка\n",
      "безсахара\n",
      "уходовая кометика\n",
      "вейп\n",
      "фотостудия\n",
      "автолюлька\n",
      "автокресло\n",
      "чермет\n"
     ]
    }
   ],
   "source": [
    "for request in requests:\n",
    "    if not request.has_vector:\n",
    "        print(request) "
   ]
  },
  {
   "cell_type": "markdown",
   "id": "dbea3b7c-c85b-48ff-a3b9-64290ff655e7",
   "metadata": {},
   "source": [
    "# Predict"
   ]
  },
  {
   "cell_type": "code",
   "execution_count": 28,
   "id": "270a0216-801c-462e-bb2c-55d4a593d811",
   "metadata": {},
   "outputs": [],
   "source": [
    "def similarity(a, b):\n",
    "    if isinstance(a, spacy.tokens.doc.Doc) and isinstance(b, spacy.tokens.doc.Doc): \n",
    "        return a.similarity(b)\n",
    "    else:\n",
    "        return np.dot(a, b) / np.dot(np.linalg.norm(a), np.linalg.norm(b))"
   ]
  },
  {
   "cell_type": "code",
   "execution_count": 29,
   "id": "38879a51-67ba-4529-88a4-5cb408682f32",
   "metadata": {},
   "outputs": [],
   "source": [
    "def sim_request(request, ads):\n",
    "    return [similarity(request, ad) for ad in ads]\n",
    "\n"
   ]
  },
  {
   "cell_type": "code",
   "execution_count": 30,
   "id": "1e850118-6e97-4820-a9de-bec8cb601d80",
   "metadata": {},
   "outputs": [],
   "source": [
    "def find_indices(scores, threshold):\n",
    "    if isinstance(scores, np.ndarray):\n",
    "        return np.where(scores > threshold)[0]\n",
    "    else:\n",
    "        return [i for i, score in enumerate(scores) if score > threshold]"
   ]
  },
  {
   "cell_type": "code",
   "execution_count": 31,
   "id": "7b4ece23",
   "metadata": {},
   "outputs": [],
   "source": [
    "# as i noticed in my experiment with \"the cabachok\"\n",
    "# even similarity less than 0.5 for advert look like right way\n",
    "# and the reason maybe too long advert (too much words)\n",
    "# split advert on two equal part and calculate SIMILRAITY\n",
    "\n",
    "def similarity_word(requests:spacy.tokens.doc.Doc, ad:List[spacy.tokens.doc.Doc]):\n",
    "\n",
    "    \"\"\"\n",
    "    calculate similraty for each word in advert\n",
    "    \"\"\"\n",
    "    score = 0\n",
    "    \n",
    "    for word in ad:    \n",
    "        if similarity(request.vector, word.vector) >= score:\n",
    "            score = similarity(request, word) \n",
    "    \n",
    "    return score\n",
    "\n",
    "def sim_request_word(request:spacy.tokens.doc.Doc, ads:List[List[spacy.tokens.doc.Doc]]):\n",
    "    return [np.max(similarity_word(request, ad)) for ad in ads]\n"
   ]
  },
  {
   "cell_type": "code",
   "execution_count": 32,
   "id": "5d2a3048-4076-4519-9f9c-03de29bebe69",
   "metadata": {},
   "outputs": [],
   "source": [
    "def predict(requests, ads, threshold=0.5):\n",
    "    predictions = {}\n",
    "    for i, request in enumerate(requests):\n",
    "        scores = sim_request(request, ads)\n",
    "        indices = find_indices(scores, threshold)\n",
    "        if indices:\n",
    "            predictions[str(i+1)] = [str(idx+1) for idx in indices] # indexation starts from 1 in the mapping\n",
    "    return predictions"
   ]
  },
  {
   "cell_type": "code",
   "execution_count": 33,
   "id": "c099aa44",
   "metadata": {},
   "outputs": [],
   "source": [
    "def predict_upd(requests, ads, threshold=0.4):\n",
    "    predictions = {}\n",
    "    for i, request in enumerate(tqdm(requests)):\n",
    "        scores = sim_request_word(request, ads)\n",
    "        indices = find_indices(scores, threshold)\n",
    "        if indices:\n",
    "            predictions[str(i+1)] = [str(idx+1) for idx in indices] # indexation starts from 1 in the mapping\n",
    "    return predictions"
   ]
  },
  {
   "cell_type": "code",
   "execution_count": 34,
   "id": "1978ea65-da21-417b-a251-fad2da5ef8b7",
   "metadata": {},
   "outputs": [
    {
     "name": "stderr",
     "output_type": "stream",
     "text": [
      "/var/folders/5d/1272b4cx2bq915491_d55y0c0000gn/T/ipykernel_8808/1724441823.py:3: UserWarning:\n",
      "\n",
      "[W008] Evaluating Doc.similarity based on empty vectors.\n",
      "\n"
     ]
    }
   ],
   "source": [
    "predictions = predict(requests, ads_, threshold=0.4)"
   ]
  },
  {
   "cell_type": "code",
   "execution_count": 35,
   "id": "fbb233c5",
   "metadata": {},
   "outputs": [
    {
     "name": "stderr",
     "output_type": "stream",
     "text": [
      "  0%|          | 0/357 [00:00<?, ?it/s]/var/folders/5d/1272b4cx2bq915491_d55y0c0000gn/T/ipykernel_8808/1724441823.py:5: RuntimeWarning:\n",
      "\n",
      "invalid value encountered in scalar divide\n",
      "\n",
      "100%|██████████| 357/357 [00:55<00:00,  6.38it/s]\n"
     ]
    }
   ],
   "source": [
    "predictions_ = predict_upd(requests, ads, threshold=0.4)"
   ]
  },
  {
   "cell_type": "markdown",
   "id": "78c86988-874f-4f3c-8d43-317d158d972a",
   "metadata": {},
   "source": [
    "# Evaluation"
   ]
  },
  {
   "cell_type": "markdown",
   "id": "e1a30f5b-c5a2-4888-986f-b32577f7d38f",
   "metadata": {},
   "source": [
    "## Example Data"
   ]
  },
  {
   "cell_type": "code",
   "execution_count": 36,
   "id": "9ee6193e-c5ea-4f1e-b5d6-948f6d0dfc34",
   "metadata": {},
   "outputs": [],
   "source": [
    "ex_mapping = {\"1\": [\"1\", \"4\"],\n",
    "     \"3\": [\"7\"],\n",
    "     \"4\": [\"3\", \"1\", \"5\"]\n",
    "    }\n",
    "\n",
    "ex_predictions = {\"1\": [\"1\", \"8\", \"4\"],\n",
    "     \"3\": [\"7\"],\n",
    "     \"5\": [\"10\"]\n",
    "    }\n",
    "\n",
    "ex_n_ads = 10\n",
    "ex_n_requests = 5\n",
    "\n",
    "ex = \"\"\"\n",
    "1)  1 2 3 4 5 6 7 8 9 10\n",
    "map 1 0 0 1 0 0 0 0 0 0 \n",
    "pr  1 0 0 1 0 0 0 1 0 0\n",
    "\n",
    "2)  1 2 3 4 5 6 7 8 9 10\n",
    "map 0 0 0 0 0 0 0 0 0 0 \n",
    "pr  0 0 0 0 0 0 0 0 0 0\n",
    "\n",
    "3)  1 2 3 4 5 6 7 8 9 10\n",
    "map 0 0 0 0 0 0 1 0 0 0 \n",
    "pr  0 0 0 0 0 0 1 0 0 0\n",
    "\n",
    "4)  1 2 3 4 5 6 7 8 9 10\n",
    "map 1 0 1 0 1 0 0 0 0 0 \n",
    "pr  0 0 0 0 0 0 0 0 0 0\n",
    "\n",
    "5)  1 2 3 4 5 6 7 8 9 10\n",
    "map 0 0 0 0 0 0 0 0 0 0 \n",
    "pr  0 0 0 0 0 0 0 0 0 1\n",
    "\n",
    "MICRO MATRIX:\n",
    "TP: 3\n",
    "FP: 2\n",
    "TN: 42\n",
    "FN: 3\n",
    "\"\"\""
   ]
  },
  {
   "cell_type": "code",
   "execution_count": 37,
   "id": "3204d74b-4935-4a9c-8bd5-28791b09caac",
   "metadata": {},
   "outputs": [
    {
     "data": {
      "text/plain": [
       "{'TP': 3, 'FP': 2, 'TN': 42, 'FN': 3}"
      ]
     },
     "execution_count": 37,
     "metadata": {},
     "output_type": "execute_result"
    }
   ],
   "source": [
    "ex_confusion_matrix = confusion_matrix_micro(ex_mapping, ex_predictions, n_ads=ex_n_ads, n_requests=ex_n_requests)\n",
    "ex_confusion_matrix"
   ]
  },
  {
   "cell_type": "code",
   "execution_count": 38,
   "id": "c8e70e43-f813-4203-8d41-f19bf867557b",
   "metadata": {},
   "outputs": [
    {
     "data": {
      "text/plain": [
       "{'accuracy': 3.84, 'precision': 0.6, 'recall': 0.5, 'f1': 0.5454545454545454}"
      ]
     },
     "execution_count": 38,
     "metadata": {},
     "output_type": "execute_result"
    }
   ],
   "source": [
    "evaluate(ex_confusion_matrix)"
   ]
  },
  {
   "cell_type": "markdown",
   "id": "2db08d87-e300-4aed-9712-26f69d2a343c",
   "metadata": {},
   "source": [
    "## Real Data"
   ]
  },
  {
   "cell_type": "code",
   "execution_count": 39,
   "id": "5d9ac7a0-1194-458a-9550-c6c46d5c2af2",
   "metadata": {},
   "outputs": [],
   "source": [
    "mapping = load_matching_data(matching_file)"
   ]
  },
  {
   "cell_type": "code",
   "execution_count": 40,
   "id": "b27764d6-4a2b-4d3c-9b2f-a05df6948754",
   "metadata": {},
   "outputs": [
    {
     "data": {
      "text/plain": [
       "{'TP': 193, 'FP': 4234, 'TN': 83210, 'FN': 185}"
      ]
     },
     "execution_count": 40,
     "metadata": {},
     "output_type": "execute_result"
    }
   ],
   "source": [
    "confusion_matrix = confusion_matrix_micro(mapping, predictions, n_ads=len(ads_), n_requests=len(requests))\n",
    "confusion_matrix"
   ]
  },
  {
   "cell_type": "code",
   "execution_count": 41,
   "id": "42ece8ca-b413-497a-ac21-beee4be7385c",
   "metadata": {},
   "outputs": [
    {
     "data": {
      "text/plain": [
       "{'accuracy': 193.947, 'precision': 0.044, 'recall': 0.511, 'f1': 0.08}"
      ]
     },
     "execution_count": 41,
     "metadata": {},
     "output_type": "execute_result"
    }
   ],
   "source": [
    "evaluate(confusion_matrix, ndigits=3)"
   ]
  },
  {
   "cell_type": "markdown",
   "id": "4b589f65-e98c-469e-b2a4-5a465563f6d2",
   "metadata": {},
   "source": [
    "# experiment <br>\n",
    " with exlude stop_list"
   ]
  },
  {
   "cell_type": "code",
   "execution_count": 42,
   "id": "a7af2d7b",
   "metadata": {},
   "outputs": [
    {
     "data": {
      "text/plain": [
       "{'TP': 24, 'FP': 3903, 'TN': 83541, 'FN': 354}"
      ]
     },
     "execution_count": 42,
     "metadata": {},
     "output_type": "execute_result"
    }
   ],
   "source": [
    "confusion_matrix_ = confusion_matrix_micro(mapping, predictions_, n_ads=len(ads_), n_requests=len(requests))\n",
    "confusion_matrix_"
   ]
  },
  {
   "cell_type": "code",
   "execution_count": 43,
   "id": "744a7c31",
   "metadata": {},
   "outputs": [
    {
     "data": {
      "text/plain": [
       "{'accuracy': 24.951, 'precision': 0.006, 'recall': 0.063, 'f1': 0.011}"
      ]
     },
     "execution_count": 43,
     "metadata": {},
     "output_type": "execute_result"
    }
   ],
   "source": [
    "evaluate(confusion_matrix_, ndigits=3)"
   ]
  }
 ],
 "metadata": {
  "kernelspec": {
   "display_name": "venv",
   "language": "python",
   "name": "python3"
  },
  "language_info": {
   "codemirror_mode": {
    "name": "ipython",
    "version": 3
   },
   "file_extension": ".py",
   "mimetype": "text/x-python",
   "name": "python",
   "nbconvert_exporter": "python",
   "pygments_lexer": "ipython3",
   "version": "3.12.0"
  }
 },
 "nbformat": 4,
 "nbformat_minor": 5
}
