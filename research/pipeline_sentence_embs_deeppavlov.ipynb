{
 "cells": [
  {
   "cell_type": "code",
   "execution_count": 1,
   "id": "108f30ca-0c7a-4e9a-a5b8-ff293ef4851f",
   "metadata": {},
   "outputs": [],
   "source": [
    "import sys\n",
    "import os\n",
    "NOTEBOOK_DIR = os.getcwd()\n",
    "sys.path.append(os.path.abspath(os.path.join(NOTEBOOK_DIR, '..')))"
   ]
  },
  {
   "cell_type": "code",
   "execution_count": 2,
   "id": "e368ffd0-578b-474a-aeae-d75e83834bfa",
   "metadata": {},
   "outputs": [],
   "source": [
    "import nltk\n",
    "import sentence_transformers\n",
    "import scipy\n",
    "import numpy as np\n",
    "\n",
    "from utils import dataset_utils\n",
    "from utils import metrics"
   ]
  },
  {
   "cell_type": "markdown",
   "id": "5663c530-9dcf-4126-bbbb-b85faa2943db",
   "metadata": {},
   "source": [
    "# Search by Sentence Embeddings with DeepPavlov"
   ]
  },
  {
   "cell_type": "markdown",
   "id": "c95bd883-a975-4be6-bae8-6dbf2a182135",
   "metadata": {},
   "source": [
    "## Load Data"
   ]
  },
  {
   "cell_type": "code",
   "execution_count": 3,
   "id": "61cf9941-1940-4e1c-bc84-0333f1f4677c",
   "metadata": {},
   "outputs": [],
   "source": [
    "REQUESTS_FILE = \"../data/request_db.txt\"\n",
    "ADS_FILE = \"../data/ads_db.txt\"\n",
    "MATCHING_FILE = \"../data/matching_db.txt\""
   ]
  },
  {
   "cell_type": "code",
   "execution_count": 4,
   "id": "5f51ca95-b069-496f-8806-8716bc2e30ac",
   "metadata": {},
   "outputs": [],
   "source": [
    "with open(ADS_FILE, encoding=\"utf-8\") as f:\n",
    "    ads_raw = f.readlines()"
   ]
  },
  {
   "cell_type": "code",
   "execution_count": 5,
   "id": "b56949b0-0bb4-40f3-a4df-37cee9ff1dfb",
   "metadata": {},
   "outputs": [],
   "source": [
    "with open(REQUESTS_FILE, encoding=\"utf-8\") as f:\n",
    "    requests_raw = f.readlines()"
   ]
  },
  {
   "cell_type": "code",
   "execution_count": 6,
   "id": "357b3da0-cecd-4312-8bb8-d78563d1e2e0",
   "metadata": {},
   "outputs": [],
   "source": [
    "true_markup = dataset_utils.load_matching_data(MATCHING_FILE)"
   ]
  },
  {
   "cell_type": "markdown",
   "id": "28727212-7adb-4ff6-b021-1b7aeaa74c3f",
   "metadata": {},
   "source": [
    "## Preprocessing"
   ]
  },
  {
   "cell_type": "code",
   "execution_count": 7,
   "id": "221b8487-d25c-45a4-8506-114a30315b42",
   "metadata": {},
   "outputs": [],
   "source": [
    "def preprocess(text):\n",
    "    text = text.replace(\"\\\\n\", \"\\n\").replace(\"\\n\", \". \")\n",
    "    text = text.strip()\n",
    "    text = text.lower()  # many words have vectors only in lowercase\n",
    "    return text"
   ]
  },
  {
   "cell_type": "code",
   "execution_count": 8,
   "id": "4421a110-7704-4898-abe5-a4a3c85daed3",
   "metadata": {},
   "outputs": [
    {
     "data": {
      "text/plain": [
       "True"
      ]
     },
     "execution_count": 8,
     "metadata": {},
     "output_type": "execute_result"
    }
   ],
   "source": [
    "nltk.download(\"punkt_tab\", download_dir=os.path.join(NOTEBOOK_DIR, \"../.venv/nltk_data\"))"
   ]
  },
  {
   "cell_type": "code",
   "execution_count": 9,
   "id": "f3012526-9dff-46a2-99c4-13ad772fc6fe",
   "metadata": {},
   "outputs": [
    {
     "name": "stderr",
     "output_type": "stream",
     "text": [
      "No sentence-transformers model found with name DeepPavlov/rubert-base-cased. Creating a new one with mean pooling.\n",
      "Some weights of the model checkpoint at DeepPavlov/rubert-base-cased were not used when initializing BertModel: ['cls.predictions.bias', 'cls.predictions.decoder.bias', 'cls.predictions.decoder.weight', 'cls.predictions.transform.LayerNorm.bias', 'cls.predictions.transform.LayerNorm.weight', 'cls.predictions.transform.dense.bias', 'cls.predictions.transform.dense.weight', 'cls.seq_relationship.bias', 'cls.seq_relationship.weight']\n",
      "- This IS expected if you are initializing BertModel from the checkpoint of a model trained on another task or with another architecture (e.g. initializing a BertForSequenceClassification model from a BertForPreTraining model).\n",
      "- This IS NOT expected if you are initializing BertModel from the checkpoint of a model that you expect to be exactly identical (initializing a BertForSequenceClassification model from a BertForSequenceClassification model).\n"
     ]
    }
   ],
   "source": [
    "model = sentence_transformers.SentenceTransformer(\"DeepPavlov/rubert-base-cased\")"
   ]
  },
  {
   "cell_type": "markdown",
   "id": "0fcec9e2-fa95-49e3-94c1-ac70bf0fb979",
   "metadata": {},
   "source": [
    "## Prediction"
   ]
  },
  {
   "cell_type": "markdown",
   "id": "c2b2e4a8-c0e4-420d-8851-7ec92e6c0c45",
   "metadata": {},
   "source": [
    "### Encode Whole Text for Each Advertisement"
   ]
  },
  {
   "cell_type": "code",
   "execution_count": 10,
   "id": "71f4327b-96f0-4bf4-bca7-3faebbb68cfb",
   "metadata": {},
   "outputs": [],
   "source": [
    "def get_probs_whole_text(enc_requests, enc_adverts, dist_type):\n",
    "    def cosine_sim(x, y):\n",
    "        dst = scipy.spatial.distance.cosine(x, y)\n",
    "        assert dst >= 0\n",
    "        assert dst <= 2\n",
    "        return 1 - (dst/2)\n",
    "\n",
    "    def euc_sim(x, y):\n",
    "        dst = np.sqrt(np.sum((x-y)**2))/(np.sqrt(np.sum(x**2)) + np.sqrt(np.sum(y**2)))\n",
    "        assert dst >= 0\n",
    "        assert dst <= 1\n",
    "        return 1 - dst\n",
    "\n",
    "    if dist_type == 'cosine':\n",
    "        sim_func = cosine_sim\n",
    "    elif dist_type == 'euclidean':\n",
    "        sim_func = euc_sim\n",
    "    else:\n",
    "        raise ValueError(f\"Unknown distance type: {dist_type}\")\n",
    "\n",
    "    all_probs = []\n",
    "    for enc_req in enc_requests:\n",
    "        probs = []\n",
    "        for enc_ad in enc_adverts:\n",
    "            probs.append(sim_func(enc_req, enc_ad))\n",
    "        all_probs.append(probs.copy())\n",
    "    return np.asarray(all_probs)"
   ]
  },
  {
   "cell_type": "code",
   "execution_count": 11,
   "id": "253f8f55-46fd-4bd0-b391-1604795374d5",
   "metadata": {},
   "outputs": [],
   "source": [
    "ad_embeddings = model.encode([preprocess(ad_text) for ad_text in ads_raw], normalize_embeddings=True)"
   ]
  },
  {
   "cell_type": "code",
   "execution_count": 12,
   "id": "ab44c157-95a4-4358-b1ce-9aa20e213e8b",
   "metadata": {},
   "outputs": [],
   "source": [
    "req_embeddings = model.encode([preprocess(req_text) for req_text in requests_raw], normalize_embeddings=True)"
   ]
  },
  {
   "cell_type": "markdown",
   "id": "346d5232-927c-4dd7-a55c-e22b92c80851",
   "metadata": {},
   "source": [
    "#### Cosine Distance"
   ]
  },
  {
   "cell_type": "code",
   "execution_count": 13,
   "id": "b1661b1a-eb87-4193-91a4-1f7b4e11d893",
   "metadata": {},
   "outputs": [
    {
     "name": "stdout",
     "output_type": "stream",
     "text": [
      "Optimal threshold for cosine distance: 0.760269284248352\n"
     ]
    }
   ],
   "source": [
    "all_probs = get_probs_whole_text(req_embeddings, ad_embeddings, 'cosine')\n",
    "opt_threshold = metrics.calc_optimal_threshold(all_probs, true_markup, len(requests_raw), len(ads_raw))\n",
    "print(f\"Optimal threshold for cosine distance: {opt_threshold}\")\n",
    "pred_markup = metrics.convert_probs_to_markup(all_probs, opt_threshold, len(requests_raw), len(ads_raw))"
   ]
  },
  {
   "cell_type": "code",
   "execution_count": 14,
   "id": "f88bdcbe-4de7-432e-8b9a-f96b436c8a82",
   "metadata": {},
   "outputs": [
    {
     "data": {
      "text/plain": [
       "{'TP': 36, 'FP': 729, 'TN': 86496, 'FN': 561}"
      ]
     },
     "execution_count": 14,
     "metadata": {},
     "output_type": "execute_result"
    }
   ],
   "source": [
    "confusion_matrix = metrics.calc_confusion_matrix(true_markup, pred_markup, n_ads=len(ads_raw), n_requests=len(requests_raw))\n",
    "confusion_matrix"
   ]
  },
  {
   "cell_type": "code",
   "execution_count": 15,
   "id": "4acc723f-d483-4dbb-a5c6-752d453339c3",
   "metadata": {},
   "outputs": [
    {
     "data": {
      "text/plain": [
       "{'accuracy': 0.9853111976497916,\n",
       " 'precision': 0.047058823529411764,\n",
       " 'recall': 0.06030150753768844,\n",
       " 'f1': 0.05286343612334801}"
      ]
     },
     "execution_count": 15,
     "metadata": {},
     "output_type": "execute_result"
    }
   ],
   "source": [
    "stats = metrics.calc_all_stats(confusion_matrix)\n",
    "stats"
   ]
  },
  {
   "cell_type": "code",
   "execution_count": 16,
   "id": "d5d5a289-8b15-4bd3-84b6-bf1b1e7b8992",
   "metadata": {},
   "outputs": [
    {
     "name": "stdout",
     "output_type": "stream",
     "text": [
      "-----------------------------------------------------------------------------------------\n",
      "|\tMetric\t\t|\tOld Value\t|\tNew Value\t|\tDiff\t|\n",
      "-----------------------------------------------------------------------------------------\n",
      "|\tTP\t\t|\t73\t\t|\t36\t\t|\t📉 -37\t|\n",
      "|\tFP\t\t|\t524\t\t|\t729\t\t|\t📈 205\t|\n",
      "|\tTN\t\t|\t86701\t\t|\t86496\t\t|\t📉 -205\t|\n",
      "|\tFN\t\t|\t524\t\t|\t561\t\t|\t📈 37\t|\n",
      "|\tPrec\t\t|\t0.122\t\t|\t0.047\t\t|\t📉 -0.075\t|\n",
      "|\tRecall\t\t|\t0.122\t\t|\t0.060\t\t|\t📉 -0.062\t|\n",
      "|\tF1\t\t|\t0.122\t\t|\t0.053\t\t|\t📉 -0.069\t|\n",
      "\n",
      "F1 📉 decreased by 0.069, down to 5.3%, which is a significant fall.\n"
     ]
    }
   ],
   "source": [
    "metrics.compare_with_saved_stats(stats, confusion_matrix)"
   ]
  },
  {
   "cell_type": "markdown",
   "id": "158b1025-f79b-4346-9500-4d20b27ad688",
   "metadata": {},
   "source": [
    "#### Euclidean Distance"
   ]
  },
  {
   "cell_type": "code",
   "execution_count": 17,
   "id": "57fda9c0-59da-4f45-99bb-604b7aa91cc9",
   "metadata": {},
   "outputs": [
    {
     "name": "stdout",
     "output_type": "stream",
     "text": [
      "Optimal threshold for euclidean distance: 0.5103769302368164\n"
     ]
    }
   ],
   "source": [
    "all_probs = get_probs_whole_text(req_embeddings, ad_embeddings, 'euclidean')\n",
    "opt_threshold = metrics.calc_optimal_threshold(all_probs, true_markup, len(requests_raw), len(ads_raw))\n",
    "print(f\"Optimal threshold for euclidean distance: {opt_threshold}\")\n",
    "pred_markup = metrics.convert_probs_to_markup(all_probs, opt_threshold, len(requests_raw), len(ads_raw))"
   ]
  },
  {
   "cell_type": "code",
   "execution_count": 18,
   "id": "c1ecfd37-1a1e-46a1-b097-e0c8af9c50b4",
   "metadata": {},
   "outputs": [
    {
     "data": {
      "text/plain": [
       "{'TP': 36, 'FP': 729, 'TN': 86496, 'FN': 561}"
      ]
     },
     "execution_count": 18,
     "metadata": {},
     "output_type": "execute_result"
    }
   ],
   "source": [
    "confusion_matrix = metrics.calc_confusion_matrix(true_markup, pred_markup, n_ads=len(ads_raw), n_requests=len(requests_raw))\n",
    "confusion_matrix"
   ]
  },
  {
   "cell_type": "code",
   "execution_count": 19,
   "id": "70c4c304-b767-45c9-be53-c073c60fd55a",
   "metadata": {},
   "outputs": [
    {
     "data": {
      "text/plain": [
       "{'accuracy': 0.9853111976497916,\n",
       " 'precision': 0.047058823529411764,\n",
       " 'recall': 0.06030150753768844,\n",
       " 'f1': 0.05286343612334801}"
      ]
     },
     "execution_count": 19,
     "metadata": {},
     "output_type": "execute_result"
    }
   ],
   "source": [
    "stats = metrics.calc_all_stats(confusion_matrix)\n",
    "stats"
   ]
  },
  {
   "cell_type": "code",
   "execution_count": 20,
   "id": "9dbb246b-5be1-4c30-b13a-db7dcb55392e",
   "metadata": {},
   "outputs": [
    {
     "name": "stdout",
     "output_type": "stream",
     "text": [
      "-----------------------------------------------------------------------------------------\n",
      "|\tMetric\t\t|\tOld Value\t|\tNew Value\t|\tDiff\t|\n",
      "-----------------------------------------------------------------------------------------\n",
      "|\tTP\t\t|\t73\t\t|\t36\t\t|\t📉 -37\t|\n",
      "|\tFP\t\t|\t524\t\t|\t729\t\t|\t📈 205\t|\n",
      "|\tTN\t\t|\t86701\t\t|\t86496\t\t|\t📉 -205\t|\n",
      "|\tFN\t\t|\t524\t\t|\t561\t\t|\t📈 37\t|\n",
      "|\tPrec\t\t|\t0.122\t\t|\t0.047\t\t|\t📉 -0.075\t|\n",
      "|\tRecall\t\t|\t0.122\t\t|\t0.060\t\t|\t📉 -0.062\t|\n",
      "|\tF1\t\t|\t0.122\t\t|\t0.053\t\t|\t📉 -0.069\t|\n",
      "\n",
      "F1 📉 decreased by 0.069, down to 5.3%, which is a significant fall.\n"
     ]
    }
   ],
   "source": [
    "metrics.compare_with_saved_stats(stats, confusion_matrix)"
   ]
  },
  {
   "cell_type": "markdown",
   "id": "9a070d50-bdf1-46bf-9d33-6bf97d5e1cae",
   "metadata": {},
   "source": [
    "## Encode Advertisements by Sentence"
   ]
  },
  {
   "cell_type": "code",
   "execution_count": 21,
   "id": "97fa6a40-4444-41da-9d87-42267f0dbe71",
   "metadata": {},
   "outputs": [],
   "source": [
    "def get_probs_w_sents(enc_requests, enc_sent_adverts, dist_type):\n",
    "    def cosine_sim(x, y):\n",
    "        dst = scipy.spatial.distance.cosine(x, y)\n",
    "        assert dst >= 0\n",
    "        assert dst <= 2\n",
    "        return 1 - (dst/2)\n",
    "\n",
    "    def euc_sim(x, y):\n",
    "        dst = np.sqrt(np.sum((x-y)**2))/(np.sqrt(np.sum(x**2)) + np.sqrt(np.sum(y**2)))\n",
    "        assert dst >= 0\n",
    "        assert dst <= 1\n",
    "        return 1 - dst\n",
    "\n",
    "    if dist_type == 'cosine':\n",
    "        sim_func = cosine_sim\n",
    "    elif dist_type == 'euclidean':\n",
    "        sim_func = euc_sim\n",
    "    else:\n",
    "        raise ValueError(f\"Unknown distance type: {dist_type}\")\n",
    "\n",
    "    all_probs = []\n",
    "    for enc_req in enc_requests:\n",
    "        probs = []\n",
    "        for enc_sent_ad_list in enc_sent_adverts:\n",
    "            probs.append(min(sim_func(enc_req, enc_ad_sent) for enc_ad_sent in enc_sent_ad_list))\n",
    "        all_probs.append(probs.copy())\n",
    "    return np.asarray(all_probs)"
   ]
  },
  {
   "cell_type": "code",
   "execution_count": 22,
   "id": "4830ff9f-b37a-44dc-b7a7-518275775bcd",
   "metadata": {},
   "outputs": [],
   "source": [
    "ad_sent_embeddings = [\n",
    "    model.encode([preprocess(ad_sent) for ad_sent in nltk.tokenize.sent_tokenize(ad_text)], normalize_embeddings=True)\n",
    "    for ad_text in ads_raw\n",
    "]"
   ]
  },
  {
   "cell_type": "code",
   "execution_count": 23,
   "id": "02cdeffe-febd-44d3-9508-e2002be4b2b7",
   "metadata": {},
   "outputs": [],
   "source": [
    "req_embeddings = model.encode([preprocess(req_text) for req_text in requests_raw], normalize_embeddings=True)"
   ]
  },
  {
   "cell_type": "markdown",
   "id": "372af9df-a50c-4c8d-8617-b16c5592a23a",
   "metadata": {},
   "source": [
    "#### Cosine Distance"
   ]
  },
  {
   "cell_type": "code",
   "execution_count": 24,
   "id": "a047abf1-7431-4371-ab87-f30b31b3975c",
   "metadata": {},
   "outputs": [
    {
     "name": "stdout",
     "output_type": "stream",
     "text": [
      "Optimal threshold for cosine distance: 0.7129769921302795\n"
     ]
    }
   ],
   "source": [
    "all_probs = get_probs_w_sents(req_embeddings, ad_sent_embeddings, 'cosine')\n",
    "opt_threshold = metrics.calc_optimal_threshold(all_probs, true_markup, len(requests_raw), len(ads_raw))\n",
    "print(f\"Optimal threshold for cosine distance: {opt_threshold}\")\n",
    "pred_markup = metrics.convert_probs_to_markup(all_probs, opt_threshold, len(requests_raw), len(ads_raw))"
   ]
  },
  {
   "cell_type": "code",
   "execution_count": 25,
   "id": "61d1faf1-4341-463d-a984-7da3ac6ed3d6",
   "metadata": {},
   "outputs": [
    {
     "data": {
      "text/plain": [
       "{'TP': 48, 'FP': 1250, 'TN': 85978, 'FN': 546}"
      ]
     },
     "execution_count": 25,
     "metadata": {},
     "output_type": "execute_result"
    }
   ],
   "source": [
    "confusion_matrix = metrics.calc_confusion_matrix(true_markup, pred_markup, n_ads=len(ads_raw), n_requests=len(requests_raw))\n",
    "confusion_matrix"
   ]
  },
  {
   "cell_type": "code",
   "execution_count": 26,
   "id": "3757391b-1ff5-41d6-840f-bde078498051",
   "metadata": {},
   "outputs": [
    {
     "data": {
      "text/plain": [
       "{'accuracy': 0.9795495433945937,\n",
       " 'precision': 0.03697996918335902,\n",
       " 'recall': 0.08080808080808081,\n",
       " 'f1': 0.050739957716701915}"
      ]
     },
     "execution_count": 26,
     "metadata": {},
     "output_type": "execute_result"
    }
   ],
   "source": [
    "stats = metrics.calc_all_stats(confusion_matrix)\n",
    "stats"
   ]
  },
  {
   "cell_type": "code",
   "execution_count": 27,
   "id": "9775f043-5767-4c11-80b2-c3c56620f5de",
   "metadata": {},
   "outputs": [
    {
     "name": "stdout",
     "output_type": "stream",
     "text": [
      "-----------------------------------------------------------------------------------------\n",
      "|\tMetric\t\t|\tOld Value\t|\tNew Value\t|\tDiff\t|\n",
      "-----------------------------------------------------------------------------------------\n",
      "|\tTP\t\t|\t73\t\t|\t48\t\t|\t📉 -25\t|\n",
      "|\tFP\t\t|\t524\t\t|\t1250\t\t|\t📈 726\t|\n",
      "|\tTN\t\t|\t86701\t\t|\t85978\t\t|\t📉 -723\t|\n",
      "|\tFN\t\t|\t524\t\t|\t546\t\t|\t📈 22\t|\n",
      "|\tPrec\t\t|\t0.122\t\t|\t0.037\t\t|\t📉 -0.085\t|\n",
      "|\tRecall\t\t|\t0.122\t\t|\t0.081\t\t|\t📉 -0.041\t|\n",
      "|\tF1\t\t|\t0.122\t\t|\t0.051\t\t|\t📉 -0.072\t|\n",
      "\n",
      "F1 📉 decreased by 0.072, down to 5.1%, which is a significant fall.\n"
     ]
    }
   ],
   "source": [
    "metrics.compare_with_saved_stats(stats, confusion_matrix)"
   ]
  },
  {
   "cell_type": "markdown",
   "id": "de071484-9c60-4b46-9c12-43b6254aeceb",
   "metadata": {},
   "source": [
    "#### Euclidean Distance"
   ]
  },
  {
   "cell_type": "code",
   "execution_count": 28,
   "id": "54db07be-077d-4d18-b7eb-6b3b7266dde3",
   "metadata": {},
   "outputs": [
    {
     "name": "stdout",
     "output_type": "stream",
     "text": [
      "Optimal threshold for euclidean distance: 0.4642546772956848\n"
     ]
    }
   ],
   "source": [
    "all_probs = get_probs_w_sents(req_embeddings, ad_sent_embeddings, 'euclidean')\n",
    "opt_threshold = metrics.calc_optimal_threshold(all_probs, true_markup, len(requests_raw), len(ads_raw))\n",
    "print(f\"Optimal threshold for euclidean distance: {opt_threshold}\")\n",
    "pred_markup = metrics.convert_probs_to_markup(all_probs, opt_threshold, len(requests_raw), len(ads_raw))"
   ]
  },
  {
   "cell_type": "code",
   "execution_count": 29,
   "id": "b778a702-0024-47eb-ae65-9e35272b95b4",
   "metadata": {},
   "outputs": [
    {
     "data": {
      "text/plain": [
       "{'TP': 48, 'FP': 1250, 'TN': 85978, 'FN': 546}"
      ]
     },
     "execution_count": 29,
     "metadata": {},
     "output_type": "execute_result"
    }
   ],
   "source": [
    "confusion_matrix = metrics.calc_confusion_matrix(true_markup, pred_markup, n_ads=len(ads_raw), n_requests=len(requests_raw))\n",
    "confusion_matrix"
   ]
  },
  {
   "cell_type": "code",
   "execution_count": 30,
   "id": "4abf89f3-eeb0-4a3b-bbd4-404c8167fee8",
   "metadata": {},
   "outputs": [
    {
     "data": {
      "text/plain": [
       "{'accuracy': 0.9795495433945937,\n",
       " 'precision': 0.03697996918335902,\n",
       " 'recall': 0.08080808080808081,\n",
       " 'f1': 0.050739957716701915}"
      ]
     },
     "execution_count": 30,
     "metadata": {},
     "output_type": "execute_result"
    }
   ],
   "source": [
    "stats = metrics.calc_all_stats(confusion_matrix)\n",
    "stats"
   ]
  },
  {
   "cell_type": "code",
   "execution_count": 31,
   "id": "0df4c5a7-eeb5-4775-af4e-f99872a70f56",
   "metadata": {},
   "outputs": [
    {
     "name": "stdout",
     "output_type": "stream",
     "text": [
      "-----------------------------------------------------------------------------------------\n",
      "|\tMetric\t\t|\tOld Value\t|\tNew Value\t|\tDiff\t|\n",
      "-----------------------------------------------------------------------------------------\n",
      "|\tTP\t\t|\t73\t\t|\t48\t\t|\t📉 -25\t|\n",
      "|\tFP\t\t|\t524\t\t|\t1250\t\t|\t📈 726\t|\n",
      "|\tTN\t\t|\t86701\t\t|\t85978\t\t|\t📉 -723\t|\n",
      "|\tFN\t\t|\t524\t\t|\t546\t\t|\t📈 22\t|\n",
      "|\tPrec\t\t|\t0.122\t\t|\t0.037\t\t|\t📉 -0.085\t|\n",
      "|\tRecall\t\t|\t0.122\t\t|\t0.081\t\t|\t📉 -0.041\t|\n",
      "|\tF1\t\t|\t0.122\t\t|\t0.051\t\t|\t📉 -0.072\t|\n",
      "\n",
      "F1 📉 decreased by 0.072, down to 5.1%, which is a significant fall.\n"
     ]
    }
   ],
   "source": [
    "metrics.compare_with_saved_stats(stats, confusion_matrix)"
   ]
  },
  {
   "cell_type": "code",
   "execution_count": null,
   "id": "c54b3cde-f0ec-497b-9823-dadb029487e9",
   "metadata": {},
   "outputs": [],
   "source": []
  }
 ],
 "metadata": {
  "kernelspec": {
   "display_name": "Python 3 (ipykernel)",
   "language": "python",
   "name": "python3"
  },
  "language_info": {
   "codemirror_mode": {
    "name": "ipython",
    "version": 3
   },
   "file_extension": ".py",
   "mimetype": "text/x-python",
   "name": "python",
   "nbconvert_exporter": "python",
   "pygments_lexer": "ipython3",
   "version": "3.12.12"
  }
 },
 "nbformat": 4,
 "nbformat_minor": 5
}
